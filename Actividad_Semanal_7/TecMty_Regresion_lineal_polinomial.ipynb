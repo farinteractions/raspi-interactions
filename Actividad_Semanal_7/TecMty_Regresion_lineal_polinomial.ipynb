{
  "nbformat": 4,
  "nbformat_minor": 0,
  "metadata": {
    "kernelspec": {
      "display_name": "Python 3",
      "language": "python",
      "name": "python3"
    },
    "language_info": {
      "codemirror_mode": {
        "name": "ipython",
        "version": 3
      },
      "file_extension": ".py",
      "mimetype": "text/x-python",
      "name": "python",
      "nbconvert_exporter": "python",
      "pygments_lexer": "ipython3",
      "version": "3.7.7"
    },
    "colab": {
      "provenance": [],
      "include_colab_link": true
    },
    "accelerator": "GPU"
  },
  "cells": [
    {
      "cell_type": "markdown",
      "metadata": {
        "id": "view-in-github",
        "colab_type": "text"
      },
      "source": [
        "<a href=\"https://colab.research.google.com/github/farinteractions/raspi-interactions/blob/main/Actividad_Semanal_7/TecMty_Regresion_lineal_polinomial.ipynb\" target=\"_parent\"><img src=\"https://colab.research.google.com/assets/colab-badge.svg\" alt=\"Open In Colab\"/></a>"
      ]
    },
    {
      "cell_type": "markdown",
      "source": [
        "# Actividad Semanal 7\n",
        "## Notebook 1 :: Regresión\n",
        "\n",
        "Fernando Ramirez - A01298109"
      ],
      "metadata": {
        "id": "YzcJZoBnEBXI"
      }
    },
    {
      "cell_type": "markdown",
      "metadata": {
        "id": "WUO-kdryVQwK"
      },
      "source": [
        "# Linear Models\n"
      ]
    },
    {
      "cell_type": "code",
      "source": [],
      "metadata": {
        "id": "Msm89naSzi21"
      },
      "execution_count": 26,
      "outputs": []
    },
    {
      "cell_type": "markdown",
      "metadata": {
        "id": "u3ytB4LpVQwM"
      },
      "source": [
        "- In supervised learning, the training data fed to the algorithm includes the desired solutions, called labels. \n",
        "- In **regression**, the labels are continuous quantities.\n",
        "- Linear models predict by computing a weighted sum of input features plus a bias term."
      ]
    },
    {
      "cell_type": "code",
      "metadata": {
        "id": "HMp_I4Y6VQwN"
      },
      "source": [
        "import numpy as np\n",
        "%matplotlib inline\n",
        "import matplotlib\n",
        "import matplotlib.pyplot as plt\n",
        "import pandas as pd\n",
        "import seaborn as sns\n",
        "# to make this notebook's output stable across runs\n",
        "np.random.seed(42)"
      ],
      "execution_count": 27,
      "outputs": []
    },
    {
      "cell_type": "markdown",
      "metadata": {
        "id": "szpzFXgiVQwN"
      },
      "source": [
        "## Simple Linear Regression\n",
        "\n",
        "Simple linear regression equation:\n",
        "\n",
        "$y = ax + b$\n",
        "<br>\n",
        "$a$: slope\n",
        "<br>\n",
        "$b$: intercept\n",
        "\n",
        "Generate linear-looking data with the equation:\n",
        "\n",
        "$y = 3X + 4 + noise$"
      ]
    },
    {
      "cell_type": "code",
      "metadata": {
        "id": "mitJFYeiMQqD"
      },
      "source": [
        "#np.random.rand(100, 1)"
      ],
      "execution_count": 28,
      "outputs": []
    },
    {
      "cell_type": "code",
      "metadata": {
        "colab": {
          "base_uri": "https://localhost:8080/",
          "height": 265
        },
        "id": "QyubE1VEVQwN",
        "outputId": "b6e1c2f4-c920-4547-e517-b5f24a5fe0e2"
      },
      "source": [
        "X = 2*np.random.rand(100, 1)\n",
        "y = 4 + 3 * X + np.random.randn(100, 1)\n",
        "plt.scatter(X, y);"
      ],
      "execution_count": 29,
      "outputs": [
        {
          "output_type": "display_data",
          "data": {
            "text/plain": [
              "<Figure size 432x288 with 1 Axes>"
            ],
            "image/png": "[encoded data removed]"
          },
          "metadata": {
            "needs_background": "light"
          }
        }
      ]
    },
    {
      "cell_type": "code",
      "source": [
        "import pandas as pd\n",
        "pd.DataFrame(y)"
      ],
      "metadata": {
        "colab": {
          "base_uri": "https://localhost:8080/",
          "height": 423
        },
        "id": "M5kaENJ4bZY5",
        "outputId": "ab3d6948-a60a-4111-fcfd-74dbe5f9c927"
      },
      "execution_count": 30,
      "outputs": [
        {
          "output_type": "execute_result",
          "data": {
            "text/plain": [
              "           0\n",
              "0   6.334288\n",
              "1   9.405278\n",
              "2   8.483724\n",
              "3   5.604382\n",
              "4   4.716440\n",
              "..       ...\n",
              "95  6.146963\n",
              "96  7.059295\n",
              "97  6.906398\n",
              "98  4.429206\n",
              "99  5.474532\n",
              "\n",
              "[100 rows x 1 columns]"
            ],
            "text/html": [
              "\n",
              "  <div id=\"df-067e1fb7-308e-425b-9684-6701bb77ad74\">\n",
              "    <div class=\"colab-df-container\">\n",
              "      <div>\n",
              "<style scoped>\n",
              "    .dataframe tbody tr th:only-of-type {\n",
              "        vertical-align: middle;\n",
              "    }\n",
              "\n",
              "    .dataframe tbody tr th {\n",
              "        vertical-align: top;\n",
              "    }\n",
              "\n",
              "    .dataframe thead th {\n",
              "        text-align: right;\n",
              "    }\n",
              "</style>\n",
              "<table border=\"1\" class=\"dataframe\">\n",
              "  <thead>\n",
              "    <tr style=\"text-align: right;\">\n",
              "      <th></th>\n",
              "      <th>0</th>\n",
              "    </tr>\n",
              "  </thead>\n",
              "  <tbody>\n",
              "    <tr>\n",
              "      <th>0</th>\n",
              "      <td>6.334288</td>\n",
              "    </tr>\n",
              "    <tr>\n",
              "      <th>1</th>\n",
              "      <td>9.405278</td>\n",
              "    </tr>\n",
              "    <tr>\n",
              "      <th>2</th>\n",
              "      <td>8.483724</td>\n",
              "    </tr>\n",
              "    <tr>\n",
              "      <th>3</th>\n",
              "      <td>5.604382</td>\n",
              "    </tr>\n",
              "    <tr>\n",
              "      <th>4</th>\n",
              "      <td>4.716440</td>\n",
              "    </tr>\n",
              "    <tr>\n",
              "      <th>...</th>\n",
              "      <td>...</td>\n",
              "    </tr>\n",
              "    <tr>\n",
              "      <th>95</th>\n",
              "      <td>6.146963</td>\n",
              "    </tr>\n",
              "    <tr>\n",
              "      <th>96</th>\n",
              "      <td>7.059295</td>\n",
              "    </tr>\n",
              "    <tr>\n",
              "      <th>97</th>\n",
              "      <td>6.906398</td>\n",
              "    </tr>\n",
              "    <tr>\n",
              "      <th>98</th>\n",
              "      <td>4.429206</td>\n",
              "    </tr>\n",
              "    <tr>\n",
              "      <th>99</th>\n",
              "      <td>5.474532</td>\n",
              "    </tr>\n",
              "  </tbody>\n",
              "</table>\n",
              "<p>100 rows × 1 columns</p>\n",
              "</div>\n",
              "      <button class=\"colab-df-convert\" onclick=\"convertToInteractive('df-067e1fb7-308e-425b-9684-6701bb77ad74')\"\n",
              "              title=\"Convert this dataframe to an interactive table.\"\n",
              "              style=\"display:none;\">\n",
              "        \n",
              "  <svg xmlns=\"http://www.w3.org/2000/svg\" height=\"24px\"viewBox=\"0 0 24 24\"\n",
              "       width=\"24px\">\n",
              "    <path d=\"M0 0h24v24H0V0z\" fill=\"none\"/>\n",
              "    <path d=\"M18.56 5.44l.94 2.06.94-2.06 2.06-.94-2.06-.94-.94-2.06-.94 2.06-2.06.94zm-11 1L8.5 8.5l.94-2.06 2.06-.94-2.06-.94L8.5 2.5l-.94 2.06-2.06.94zm10 10l.94 2.06.94-2.06 2.06-.94-2.06-.94-.94-2.06-.94 2.06-2.06.94z\"/><path d=\"M17.41 7.96l-1.37-1.37c-.4-.4-.92-.59-1.43-.59-.52 0-1.04.2-1.43.59L10.3 9.45l-7.72 7.72c-.78.78-.78 2.05 0 2.83L4 21.41c.39.39.9.59 1.41.59.51 0 1.02-.2 1.41-.59l7.78-7.78 2.81-2.81c.8-.78.8-2.07 0-2.86zM5.41 20L4 18.59l7.72-7.72 1.47 1.35L5.41 20z\"/>\n",
              "  </svg>\n",
              "      </button>\n",
              "      \n",
              "  <style>\n",
              "    .colab-df-container {\n",
              "      display:flex;\n",
              "      flex-wrap:wrap;\n",
              "      gap: 12px;\n",
              "    }\n",
              "\n",
              "    .colab-df-convert {\n",
              "      background-color: #E8F0FE;\n",
              "      border: none;\n",
              "      border-radius: 50%;\n",
              "      cursor: pointer;\n",
              "      display: none;\n",
              "      fill: #1967D2;\n",
              "      height: 32px;\n",
              "      padding: 0 0 0 0;\n",
              "      width: 32px;\n",
              "    }\n",
              "\n",
              "    .colab-df-convert:hover {\n",
              "      background-color: #E2EBFA;\n",
              "      box-shadow: 0px 1px 2px rgba(60, 64, 67, 0.3), 0px 1px 3px 1px rgba(60, 64, 67, 0.15);\n",
              "      fill: #174EA6;\n",
              "    }\n",
              "\n",
              "    [theme=dark] .colab-df-convert {\n",
              "      background-color: #3B4455;\n",
              "      fill: #D2E3FC;\n",
              "    }\n",
              "\n",
              "    [theme=dark] .colab-df-convert:hover {\n",
              "      background-color: #434B5C;\n",
              "      box-shadow: 0px 1px 3px 1px rgba(0, 0, 0, 0.15);\n",
              "      filter: drop-shadow(0px 1px 2px rgba(0, 0, 0, 0.3));\n",
              "      fill: #FFFFFF;\n",
              "    }\n",
              "  </style>\n",
              "\n",
              "      <script>\n",
              "        const buttonEl =\n",
              "          document.querySelector('#df-067e1fb7-308e-425b-9684-6701bb77ad74 button.colab-df-convert');\n",
              "        buttonEl.style.display =\n",
              "          google.colab.kernel.accessAllowed ? 'block' : 'none';\n",
              "\n",
              "        async function convertToInteractive(key) {\n",
              "          const element = document.querySelector('#df-067e1fb7-308e-425b-9684-6701bb77ad74');\n",
              "          const dataTable =\n",
              "            await google.colab.kernel.invokeFunction('convertToInteractive',\n",
              "                                                     [key], {});\n",
              "          if (!dataTable) return;\n",
              "\n",
              "          const docLinkHtml = 'Like what you see? Visit the ' +\n",
              "            '<a target=\"_blank\" href=https://colab.research.google.com/notebooks/data_table.ipynb>data table notebook</a>'\n",
              "            + ' to learn more about interactive tables.';\n",
              "          element.innerHTML = '';\n",
              "          dataTable['output_type'] = 'display_data';\n",
              "          await google.colab.output.renderOutput(dataTable, element);\n",
              "          const docLink = document.createElement('div');\n",
              "          docLink.innerHTML = docLinkHtml;\n",
              "          element.appendChild(docLink);\n",
              "        }\n",
              "      </script>\n",
              "    </div>\n",
              "  </div>\n",
              "  "
            ]
          },
          "metadata": {},
          "execution_count": 30
        }
      ]
    },
    {
      "cell_type": "code",
      "metadata": {
        "colab": {
          "base_uri": "https://localhost:8080/"
        },
        "id": "x6XGt_iAVQwO",
        "outputId": "42b11185-54ed-4fa5-aa54-20b72e900730"
      },
      "source": [
        "from sklearn.linear_model import LinearRegression\n",
        "\n",
        "linear_reg = LinearRegression(fit_intercept=True)\n",
        "linear_reg.fit(X, y)"
      ],
      "execution_count": 31,
      "outputs": [
        {
          "output_type": "execute_result",
          "data": {
            "text/plain": [
              "LinearRegression()"
            ]
          },
          "metadata": {},
          "execution_count": 31
        }
      ]
    },
    {
      "cell_type": "markdown",
      "metadata": {
        "id": "Hnm9YgjbVQwO"
      },
      "source": [
        "Plot the model's predictions:"
      ]
    },
    {
      "cell_type": "code",
      "metadata": {
        "id": "9NtrLfGGVQwP"
      },
      "source": [
        "#X_fit[]"
      ],
      "execution_count": 32,
      "outputs": []
    },
    {
      "cell_type": "code",
      "metadata": {
        "colab": {
          "base_uri": "https://localhost:8080/",
          "height": 287
        },
        "id": "1ZTT31igVQwP",
        "outputId": "9d8023b9-d4dc-4227-e0bc-5495d381a9af"
      },
      "source": [
        "# construct best fit line\n",
        "X_fit = np.linspace(0, 2, 100)\n",
        "y_fit = linear_reg.predict(X_fit[:, np.newaxis])\n",
        "\n",
        "plt.scatter(X, y)\n",
        "plt.plot(X_fit, y_fit, \"r-\", linewidth=2, label=\"Predictions\")\n",
        "plt.xlabel(\"$X$\", fontsize=18)\n",
        "plt.ylabel(\"$y$\", rotation=0, fontsize=18)\n",
        "plt.legend(loc=\"upper left\", fontsize=14);"
      ],
      "execution_count": 33,
      "outputs": [
        {
          "output_type": "display_data",
          "data": {
            "text/plain": [
              "<Figure size 432x288 with 1 Axes>"
            ],
            "image/png": "[encoded data removed]"
          },
          "metadata": {
            "needs_background": "light"
          }
        }
      ]
    },
    {
      "cell_type": "markdown",
      "metadata": {
        "id": "kIfOsEcWVQwP"
      },
      "source": [
        "Predictions are a good fit."
      ]
    },
    {
      "cell_type": "markdown",
      "metadata": {
        "id": "z2VYUeGrVQwQ"
      },
      "source": [
        "Generate new data to make predictions with the model:"
      ]
    },
    {
      "cell_type": "code",
      "metadata": {
        "colab": {
          "base_uri": "https://localhost:8080/"
        },
        "id": "FuEd0Wp0VQwQ",
        "outputId": "9f25a950-c7e5-4ccf-c445-00f5b452b5a2"
      },
      "source": [
        "X_new = np.array([[0], [2]])\n",
        "X_new"
      ],
      "execution_count": 34,
      "outputs": [
        {
          "output_type": "execute_result",
          "data": {
            "text/plain": [
              "array([[0],\n",
              "       [2]])"
            ]
          },
          "metadata": {},
          "execution_count": 34
        }
      ]
    },
    {
      "cell_type": "code",
      "metadata": {
        "colab": {
          "base_uri": "https://localhost:8080/"
        },
        "id": "lLCnLm7_VQwQ",
        "outputId": "85c6ba3c-ccc2-462e-f1aa-2b3ac0aeab39"
      },
      "source": [
        "X_new.shape"
      ],
      "execution_count": 35,
      "outputs": [
        {
          "output_type": "execute_result",
          "data": {
            "text/plain": [
              "(2, 1)"
            ]
          },
          "metadata": {},
          "execution_count": 35
        }
      ]
    },
    {
      "cell_type": "code",
      "metadata": {
        "colab": {
          "base_uri": "https://localhost:8080/"
        },
        "id": "zJIzUfZsVQwQ",
        "outputId": "1baba92f-a5e5-442c-8918-1ce864fb3921"
      },
      "source": [
        "y_new = linear_reg.predict(X_new)\n",
        "y_new"
      ],
      "execution_count": 36,
      "outputs": [
        {
          "output_type": "execute_result",
          "data": {
            "text/plain": [
              "array([[4.21509616],\n",
              "       [9.75532293]])"
            ]
          },
          "metadata": {},
          "execution_count": 36
        }
      ]
    },
    {
      "cell_type": "code",
      "metadata": {
        "colab": {
          "base_uri": "https://localhost:8080/"
        },
        "id": "ICiEnkbdVQwQ",
        "outputId": "bb30b20f-d29d-41aa-8533-eb623bf4e1ab"
      },
      "source": [
        " linear_reg.coef_, linear_reg.intercept_"
      ],
      "execution_count": 37,
      "outputs": [
        {
          "output_type": "execute_result",
          "data": {
            "text/plain": [
              "(array([[2.77011339]]), array([4.21509616]))"
            ]
          },
          "metadata": {},
          "execution_count": 37
        }
      ]
    },
    {
      "cell_type": "markdown",
      "metadata": {
        "id": "iBXzOecgVQwR"
      },
      "source": [
        "The model estimates:\n",
        "\n",
        "$\\hat{y} = 2.874X + 4.16$"
      ]
    },
    {
      "cell_type": "code",
      "metadata": {
        "id": "ZNvipq0wQYfj"
      },
      "source": [
        "#|VENTAS|GANANCIAS|\n",
        "#COEF*VENTAS+B\n",
        "#|VENTAS|COMPRAS|GANANCIAS|\n",
        "#COEF1*X1+COEF2*X2+B=Y"
      ],
      "execution_count": 38,
      "outputs": []
    },
    {
      "cell_type": "markdown",
      "metadata": {
        "id": "_Rv-RJSnVQwR"
      },
      "source": [
        "## Polynomial Regression\n",
        "\n",
        "If data is more complex than a straight line, you can use a linear model ti fit non-linear data adding powers of each feature as new features and then train a linear model on the extended set of features. "
      ]
    },
    {
      "cell_type": "markdown",
      "metadata": {
        "id": "dPrpAVsZVQwR"
      },
      "source": [
        "$$y = a_0 + a_1x_1 + a_2x_2 + a_3x_3 + ...$$ to $$y = a_0 + a_1x + a_2x^2 + a_3x^3+ ...$$ "
      ]
    },
    {
      "cell_type": "markdown",
      "metadata": {
        "id": "9kjMWzEfVQwR"
      },
      "source": [
        "This is still a linear model, the linearity refers to the fact that the coefficients never multiply or divide each other."
      ]
    },
    {
      "cell_type": "markdown",
      "metadata": {
        "id": "2M3fp_CSVQwR"
      },
      "source": [
        "To generate polynomial data we use the function:\n",
        "\n",
        "$y = 0.50X^2 + X + 2 + noise$"
      ]
    },
    {
      "cell_type": "code",
      "metadata": {
        "id": "sSrueMnPVQwR"
      },
      "source": [
        "# generate non-linear data e.g. quadratic equation\n",
        "m = 100\n",
        "X = 6 * np.random.rand(m, 1) - 3\n",
        "y = 0.5 * X**2 + X + 2 + np.random.randn(m, 1)"
      ],
      "execution_count": 39,
      "outputs": []
    },
    {
      "cell_type": "code",
      "metadata": {
        "colab": {
          "base_uri": "https://localhost:8080/",
          "height": 0
        },
        "id": "GNQQoXkMVQwS",
        "outputId": "95db8c2d-c30c-4049-c29c-b845242168ed"
      },
      "source": [
        "plt.plot(X, y, \"b.\")\n",
        "plt.xlabel(\"$x_1$\", fontsize=18)\n",
        "plt.ylabel(\"$y$\", rotation=0, fontsize=18)\n",
        "plt.axis([-3, 3, 0, 10]);"
      ],
      "execution_count": 40,
      "outputs": [
        {
          "output_type": "display_data",
          "data": {
            "text/plain": [
              "<Figure size 432x288 with 1 Axes>"
            ],
            "image/png": "[encoded data removed]"
          },
          "metadata": {
            "needs_background": "light"
          }
        }
      ]
    },
    {
      "cell_type": "code",
      "source": [
        "import pandas as pd\n",
        "pd.DataFrame(y)"
      ],
      "metadata": {
        "id": "YtaK_dsidNcP",
        "outputId": "dd0c8411-8b61-407f-bfdc-ac9cb8b16aec",
        "colab": {
          "base_uri": "https://localhost:8080/",
          "height": 0
        }
      },
      "execution_count": 41,
      "outputs": [
        {
          "output_type": "execute_result",
          "data": {
            "text/plain": [
              "           0\n",
              "0   6.600226\n",
              "1   1.308278\n",
              "2   3.011698\n",
              "3   2.730748\n",
              "4   0.916311\n",
              "..       ...\n",
              "95  5.921447\n",
              "96  3.236962\n",
              "97  2.735053\n",
              "98  1.614939\n",
              "99  0.629370\n",
              "\n",
              "[100 rows x 1 columns]"
            ],
            "text/html": [
              "\n",
              "  <div id=\"df-f1b12c05-e70e-4eea-90e8-c000538369db\">\n",
              "    <div class=\"colab-df-container\">\n",
              "      <div>\n",
              "<style scoped>\n",
              "    .dataframe tbody tr th:only-of-type {\n",
              "        vertical-align: middle;\n",
              "    }\n",
              "\n",
              "    .dataframe tbody tr th {\n",
              "        vertical-align: top;\n",
              "    }\n",
              "\n",
              "    .dataframe thead th {\n",
              "        text-align: right;\n",
              "    }\n",
              "</style>\n",
              "<table border=\"1\" class=\"dataframe\">\n",
              "  <thead>\n",
              "    <tr style=\"text-align: right;\">\n",
              "      <th></th>\n",
              "      <th>0</th>\n",
              "    </tr>\n",
              "  </thead>\n",
              "  <tbody>\n",
              "    <tr>\n",
              "      <th>0</th>\n",
              "      <td>6.600226</td>\n",
              "    </tr>\n",
              "    <tr>\n",
              "      <th>1</th>\n",
              "      <td>1.308278</td>\n",
              "    </tr>\n",
              "    <tr>\n",
              "      <th>2</th>\n",
              "      <td>3.011698</td>\n",
              "    </tr>\n",
              "    <tr>\n",
              "      <th>3</th>\n",
              "      <td>2.730748</td>\n",
              "    </tr>\n",
              "    <tr>\n",
              "      <th>4</th>\n",
              "      <td>0.916311</td>\n",
              "    </tr>\n",
              "    <tr>\n",
              "      <th>...</th>\n",
              "      <td>...</td>\n",
              "    </tr>\n",
              "    <tr>\n",
              "      <th>95</th>\n",
              "      <td>5.921447</td>\n",
              "    </tr>\n",
              "    <tr>\n",
              "      <th>96</th>\n",
              "      <td>3.236962</td>\n",
              "    </tr>\n",
              "    <tr>\n",
              "      <th>97</th>\n",
              "      <td>2.735053</td>\n",
              "    </tr>\n",
              "    <tr>\n",
              "      <th>98</th>\n",
              "      <td>1.614939</td>\n",
              "    </tr>\n",
              "    <tr>\n",
              "      <th>99</th>\n",
              "      <td>0.629370</td>\n",
              "    </tr>\n",
              "  </tbody>\n",
              "</table>\n",
              "<p>100 rows × 1 columns</p>\n",
              "</div>\n",
              "      <button class=\"colab-df-convert\" onclick=\"convertToInteractive('df-f1b12c05-e70e-4eea-90e8-c000538369db')\"\n",
              "              title=\"Convert this dataframe to an interactive table.\"\n",
              "              style=\"display:none;\">\n",
              "        \n",
              "  <svg xmlns=\"http://www.w3.org/2000/svg\" height=\"24px\"viewBox=\"0 0 24 24\"\n",
              "       width=\"24px\">\n",
              "    <path d=\"M0 0h24v24H0V0z\" fill=\"none\"/>\n",
              "    <path d=\"M18.56 5.44l.94 2.06.94-2.06 2.06-.94-2.06-.94-.94-2.06-.94 2.06-2.06.94zm-11 1L8.5 8.5l.94-2.06 2.06-.94-2.06-.94L8.5 2.5l-.94 2.06-2.06.94zm10 10l.94 2.06.94-2.06 2.06-.94-2.06-.94-.94-2.06-.94 2.06-2.06.94z\"/><path d=\"M17.41 7.96l-1.37-1.37c-.4-.4-.92-.59-1.43-.59-.52 0-1.04.2-1.43.59L10.3 9.45l-7.72 7.72c-.78.78-.78 2.05 0 2.83L4 21.41c.39.39.9.59 1.41.59.51 0 1.02-.2 1.41-.59l7.78-7.78 2.81-2.81c.8-.78.8-2.07 0-2.86zM5.41 20L4 18.59l7.72-7.72 1.47 1.35L5.41 20z\"/>\n",
              "  </svg>\n",
              "      </button>\n",
              "      \n",
              "  <style>\n",
              "    .colab-df-container {\n",
              "      display:flex;\n",
              "      flex-wrap:wrap;\n",
              "      gap: 12px;\n",
              "    }\n",
              "\n",
              "    .colab-df-convert {\n",
              "      background-color: #E8F0FE;\n",
              "      border: none;\n",
              "      border-radius: 50%;\n",
              "      cursor: pointer;\n",
              "      display: none;\n",
              "      fill: #1967D2;\n",
              "      height: 32px;\n",
              "      padding: 0 0 0 0;\n",
              "      width: 32px;\n",
              "    }\n",
              "\n",
              "    .colab-df-convert:hover {\n",
              "      background-color: #E2EBFA;\n",
              "      box-shadow: 0px 1px 2px rgba(60, 64, 67, 0.3), 0px 1px 3px 1px rgba(60, 64, 67, 0.15);\n",
              "      fill: #174EA6;\n",
              "    }\n",
              "\n",
              "    [theme=dark] .colab-df-convert {\n",
              "      background-color: #3B4455;\n",
              "      fill: #D2E3FC;\n",
              "    }\n",
              "\n",
              "    [theme=dark] .colab-df-convert:hover {\n",
              "      background-color: #434B5C;\n",
              "      box-shadow: 0px 1px 3px 1px rgba(0, 0, 0, 0.15);\n",
              "      filter: drop-shadow(0px 1px 2px rgba(0, 0, 0, 0.3));\n",
              "      fill: #FFFFFF;\n",
              "    }\n",
              "  </style>\n",
              "\n",
              "      <script>\n",
              "        const buttonEl =\n",
              "          document.querySelector('#df-f1b12c05-e70e-4eea-90e8-c000538369db button.colab-df-convert');\n",
              "        buttonEl.style.display =\n",
              "          google.colab.kernel.accessAllowed ? 'block' : 'none';\n",
              "\n",
              "        async function convertToInteractive(key) {\n",
              "          const element = document.querySelector('#df-f1b12c05-e70e-4eea-90e8-c000538369db');\n",
              "          const dataTable =\n",
              "            await google.colab.kernel.invokeFunction('convertToInteractive',\n",
              "                                                     [key], {});\n",
              "          if (!dataTable) return;\n",
              "\n",
              "          const docLinkHtml = 'Like what you see? Visit the ' +\n",
              "            '<a target=\"_blank\" href=https://colab.research.google.com/notebooks/data_table.ipynb>data table notebook</a>'\n",
              "            + ' to learn more about interactive tables.';\n",
              "          element.innerHTML = '';\n",
              "          dataTable['output_type'] = 'display_data';\n",
              "          await google.colab.output.renderOutput(dataTable, element);\n",
              "          const docLink = document.createElement('div');\n",
              "          docLink.innerHTML = docLinkHtml;\n",
              "          element.appendChild(docLink);\n",
              "        }\n",
              "      </script>\n",
              "    </div>\n",
              "  </div>\n",
              "  "
            ]
          },
          "metadata": {},
          "execution_count": 41
        }
      ]
    },
    {
      "cell_type": "markdown",
      "metadata": {
        "id": "vrZTRaLNVQwS"
      },
      "source": [
        "Now we can use `PolynomialFeatues` to transform training data adding the square of each feature as new features."
      ]
    },
    {
      "cell_type": "code",
      "metadata": {
        "id": "BXo0Hm56VQwS"
      },
      "source": [
        "from sklearn.preprocessing import PolynomialFeatures\n",
        "\n",
        "poly_features = PolynomialFeatures(degree=2, include_bias=False)\n",
        "X_poly = poly_features.fit_transform(X)"
      ],
      "execution_count": 42,
      "outputs": []
    },
    {
      "cell_type": "code",
      "metadata": {
        "id": "1FqY9-I4VQwS",
        "outputId": "f5771d7c-0b94-46bd-c2ad-870275b164ae",
        "colab": {
          "base_uri": "https://localhost:8080/"
        }
      },
      "source": [
        "X_poly"
      ],
      "execution_count": 43,
      "outputs": [
        {
          "output_type": "execute_result",
          "data": {
            "text/plain": [
              "array([[ 1.76886782e+00,  3.12889337e+00],\n",
              "       [ 1.58225586e-02,  2.50353362e-04],\n",
              "       [ 4.61423308e-01,  2.12911469e-01],\n",
              "       [-4.48938371e-02,  2.01545661e-03],\n",
              "       [-1.82854207e+00,  3.34356611e+00],\n",
              "       [ 1.33471269e+00,  1.78145797e+00],\n",
              "       [-1.31536583e+00,  1.73018725e+00],\n",
              "       [-2.85410420e+00,  8.14591079e+00],\n",
              "       [ 8.72833775e-01,  7.61838800e-01],\n",
              "       [-1.93733592e+00,  3.75327048e+00],\n",
              "       [ 2.64275151e+00,  6.98413552e+00],\n",
              "       [ 2.72357146e+00,  7.41784151e+00],\n",
              "       [ 2.48918634e+00,  6.19604864e+00],\n",
              "       [-7.79047798e-01,  6.06915472e-01],\n",
              "       [-2.90726030e+00,  8.45216246e+00],\n",
              "       [ 2.56991138e+00,  6.60444448e+00],\n",
              "       [-4.30895110e-01,  1.85670596e-01],\n",
              "       [ 2.79992891e+00,  7.83960192e+00],\n",
              "       [ 2.78171986e+00,  7.73796539e+00],\n",
              "       [ 2.11805673e+00,  4.48616432e+00],\n",
              "       [-1.23330665e+00,  1.52104529e+00],\n",
              "       [-6.89413628e-01,  4.75291151e-01],\n",
              "       [ 2.10682003e+00,  4.43869064e+00],\n",
              "       [-1.09846797e+00,  1.20663188e+00],\n",
              "       [-1.98304352e+00,  3.93246160e+00],\n",
              "       [ 3.40807575e-01,  1.16149803e-01],\n",
              "       [ 2.61692864e+00,  6.84831553e+00],\n",
              "       [ 1.17617878e+00,  1.38339652e+00],\n",
              "       [ 4.20367021e-01,  1.76708432e-01],\n",
              "       [-2.41694104e+00,  5.84160398e+00],\n",
              "       [ 6.90043360e-01,  4.76159839e-01],\n",
              "       [ 2.94032310e+00,  8.64549994e+00],\n",
              "       [-2.15949591e+00,  4.66342258e+00],\n",
              "       [ 1.09977914e-01,  1.20951416e-02],\n",
              "       [ 2.26423843e+00,  5.12677567e+00],\n",
              "       [ 1.44461171e+00,  2.08690298e+00],\n",
              "       [ 1.18209445e+00,  1.39734728e+00],\n",
              "       [ 1.21490450e+00,  1.47599295e+00],\n",
              "       [-8.43053093e-01,  7.10738517e-01],\n",
              "       [-1.23844893e+00,  1.53375576e+00],\n",
              "       [ 1.85616693e+00,  3.44535568e+00],\n",
              "       [ 1.86068037e+00,  3.46213143e+00],\n",
              "       [ 2.20243391e+00,  4.85071513e+00],\n",
              "       [ 2.47944332e+00,  6.14763915e+00],\n",
              "       [ 6.80543932e-02,  4.63140043e-03],\n",
              "       [ 9.09776812e-03,  8.27693848e-05],\n",
              "       [ 1.78977107e+00,  3.20328050e+00],\n",
              "       [ 8.99783585e-01,  8.09610499e-01],\n",
              "       [ 1.21180126e+00,  1.46846230e+00],\n",
              "       [ 1.77475602e+00,  3.14975892e+00],\n",
              "       [ 2.34003205e+00,  5.47575000e+00],\n",
              "       [-9.72029059e-01,  9.44840491e-01],\n",
              "       [-7.46502284e-01,  5.57265660e-01],\n",
              "       [-2.43610836e+00,  5.93462395e+00],\n",
              "       [ 4.69680846e-01,  2.20600097e-01],\n",
              "       [-2.78434636e+00,  7.75258464e+00],\n",
              "       [-2.06411891e-01,  4.26058688e-02],\n",
              "       [ 2.55867808e-01,  6.54683353e-02],\n",
              "       [-1.28075249e+00,  1.64032693e+00],\n",
              "       [ 5.44999563e-01,  2.97024524e-01],\n",
              "       [-2.81699850e+00,  7.93548055e+00],\n",
              "       [-2.77591087e+00,  7.70568114e+00],\n",
              "       [ 1.93560336e+00,  3.74656038e+00],\n",
              "       [-8.38856152e-01,  7.03679643e-01],\n",
              "       [-2.23763692e+00,  5.00701900e+00],\n",
              "       [ 1.33459560e-01,  1.78114542e-02],\n",
              "       [ 1.61996132e+00,  2.62427467e+00],\n",
              "       [-1.70507384e+00,  2.90727678e+00],\n",
              "       [ 7.37342855e-01,  5.43674486e-01],\n",
              "       [-2.48791521e+00,  6.18972209e+00],\n",
              "       [-2.68990967e+00,  7.23561405e+00],\n",
              "       [ 1.88127789e-01,  3.53920651e-02],\n",
              "       [ 2.43810730e-01,  5.94436719e-02],\n",
              "       [ 8.24579409e-01,  6.79931202e-01],\n",
              "       [ 1.35654800e+00,  1.84022248e+00],\n",
              "       [ 2.85511248e+00,  8.15166726e+00],\n",
              "       [ 9.78020898e-02,  9.56524877e-03],\n",
              "       [-1.06226116e+00,  1.12839878e+00],\n",
              "       [ 1.77111717e+00,  3.13685602e+00],\n",
              "       [-1.37500649e+00,  1.89064285e+00],\n",
              "       [-3.66171476e-01,  1.34081550e-01],\n",
              "       [-2.52926171e+00,  6.39716481e+00],\n",
              "       [-2.84789554e+00,  8.11050900e+00],\n",
              "       [ 2.77589049e+00,  7.70556800e+00],\n",
              "       [ 2.01588072e+00,  4.06377509e+00],\n",
              "       [ 1.17584524e+00,  1.38261202e+00],\n",
              "       [-5.46282334e-01,  2.98424388e-01],\n",
              "       [-1.96023408e+00,  3.84251765e+00],\n",
              "       [-2.06137774e+00,  4.24927820e+00],\n",
              "       [-1.49854261e+00,  2.24562996e+00],\n",
              "       [ 2.95359988e-01,  8.72375227e-02],\n",
              "       [ 1.28757554e+00,  1.65785076e+00],\n",
              "       [ 9.61184260e-01,  9.23875182e-01],\n",
              "       [-1.32039662e+00,  1.74344723e+00],\n",
              "       [ 2.72919168e+00,  7.44848725e+00],\n",
              "       [ 1.42738150e+00,  2.03741795e+00],\n",
              "       [ 3.26124315e-01,  1.06357069e-01],\n",
              "       [ 6.70324477e-01,  4.49334905e-01],\n",
              "       [-4.82399625e-01,  2.32709399e-01],\n",
              "       [-1.51361406e+00,  2.29102753e+00]])"
            ]
          },
          "metadata": {},
          "execution_count": 43
        }
      ]
    },
    {
      "cell_type": "markdown",
      "metadata": {
        "id": "GrFMRU_eVQwS"
      },
      "source": [
        "`X_poly` now contains the original feature of X plus the square of the feature:"
      ]
    },
    {
      "cell_type": "code",
      "metadata": {
        "colab": {
          "base_uri": "https://localhost:8080/"
        },
        "id": "M8FH1dY2UwgN",
        "outputId": "d3160a9e-e3e7-4d26-b419-8cbef7f96f09"
      },
      "source": [
        "print(X[0])\n",
        "print(X[0]*X[0])"
      ],
      "execution_count": 44,
      "outputs": [
        {
          "output_type": "stream",
          "name": "stdout",
          "text": [
            "[1.76886782]\n",
            "[3.12889337]\n"
          ]
        }
      ]
    },
    {
      "cell_type": "code",
      "metadata": {
        "colab": {
          "base_uri": "https://localhost:8080/"
        },
        "id": "PSflPniWVQwT",
        "outputId": "9c574499-854a-46f6-fd8a-b326b5ff692c"
      },
      "source": [
        "X_poly[0]"
      ],
      "execution_count": 45,
      "outputs": [
        {
          "output_type": "execute_result",
          "data": {
            "text/plain": [
              "array([1.76886782, 3.12889337])"
            ]
          },
          "metadata": {},
          "execution_count": 45
        }
      ]
    },
    {
      "cell_type": "markdown",
      "metadata": {
        "id": "HaXjXg7FVQwT"
      },
      "source": [
        "Fit the model to this extended training data:"
      ]
    },
    {
      "cell_type": "code",
      "metadata": {
        "colab": {
          "base_uri": "https://localhost:8080/"
        },
        "id": "c0Qu93dgVQwT",
        "outputId": "359c1012-1e1c-44bf-8eb5-3bc1d1c327a3"
      },
      "source": [
        "lin_reg = LinearRegression(fit_intercept=True)\n",
        "lin_reg.fit(X_poly, y)\n",
        "lin_reg.coef_, lin_reg.intercept_"
      ],
      "execution_count": 46,
      "outputs": [
        {
          "output_type": "execute_result",
          "data": {
            "text/plain": [
              "(array([[1.04630034, 0.5015459 ]]), array([1.99958228]))"
            ]
          },
          "metadata": {},
          "execution_count": 46
        }
      ]
    },
    {
      "cell_type": "markdown",
      "metadata": {
        "id": "rKOSwvnmVQwT"
      },
      "source": [
        "The model estimates:\n",
        "\n",
        "$\\hat{y} =  1.047X +0.513X^2 + 2.13$"
      ]
    },
    {
      "cell_type": "markdown",
      "metadata": {
        "id": "_EtZEKz5VQwT"
      },
      "source": [
        "Plot the data and the predictions:"
      ]
    },
    {
      "cell_type": "code",
      "metadata": {
        "colab": {
          "base_uri": "https://localhost:8080/",
          "height": 0
        },
        "id": "6Q8dHRgdVQwT",
        "outputId": "e3769a82-d4de-4ee7-aa9c-13b309352896"
      },
      "source": [
        "X_new=np.linspace(-3, 3, 100).reshape(100, 1)\n",
        "X_new_poly = poly_features.transform(X_new)\n",
        "y_new = lin_reg.predict(X_new_poly)\n",
        "plt.plot(X, y, \"b.\")\n",
        "plt.plot(X_new, y_new, \"r-\", linewidth=2, label=\"Predictions\")\n",
        "plt.xlabel(\"$x_1$\", fontsize=18)\n",
        "plt.ylabel(\"$y$\", rotation=0, fontsize=18)\n",
        "plt.legend(loc=\"upper left\", fontsize=14)\n",
        "plt.axis([-3, 3, 0, 10]);"
      ],
      "execution_count": 47,
      "outputs": [
        {
          "output_type": "display_data",
          "data": {
            "text/plain": [
              "<Figure size 432x288 with 1 Axes>"
            ],
            "image/png": "[encoded data removed]"
          },
          "metadata": {
            "needs_background": "light"
          }
        }
      ]
    },
    {
      "cell_type": "code",
      "source": [],
      "metadata": {
        "id": "vyq0o8f2pcqa"
      },
      "execution_count": 47,
      "outputs": []
    },
    {
      "cell_type": "markdown",
      "source": [
        "## R square\n",
        "\n",
        "R² es una medida estadística de qué tan cerca están los datos de la línea de regresión ajustada. También se conoce como el coeficiente de determinación o el coeficiente de determinación múltiple para la regresión múltiple. Para decirlo en un lenguaje más simple, R² es una medida de ajuste para los modelos de regresión lineal.\n",
        "\n",
        "\n",
        "\n",
        "R² no indica si un modelo de regresión se ajusta adecuadamente a sus datos. Un buen modelo puede tener un valor R² bajo. Por otro lado, un modelo sesgado puede tener un valor alto de R².\n",
        "\n",
        " SSres + SSreg = SStot, R² = Explained variation / Total Variation\n",
        " \n",
        " ![image.png](https://i.stack.imgur.com/xb1VY.png)\n",
        " \n",
        "![image.png](https://3.bp.blogspot.com/-MFqQLwbGwd4/WMO7tz39beI/AAAAAAAAF9I/Bjpfohgv_5E4lu7HzHJBQtXsBM--byqPwCLcB/s1600/rsquared.png)\n"
      ],
      "metadata": {
        "id": "TIFwAtW1pc6h"
      }
    },
    {
      "cell_type": "markdown",
      "metadata": {
        "id": "nTKFj4x9LMXm"
      },
      "source": [
        "# Ejercicio 1\n",
        "\n",
        "Utiliza la base de datos de \n",
        "https://www.kaggle.com/vinicius150987/manufacturing-cost\n",
        "\n",
        "Suponga que trabaja como consultor de una empresa de nueva creación que busca desarrollar un modelo para estimar el costo de los bienes vendidos a medida que varían el volumen de producción (número de unidades producidas). La startup recopiló datos y le pidió que desarrollara un modelo para predecir su costo frente a la cantidad de unidades vendidas."
      ]
    },
    {
      "cell_type": "code",
      "metadata": {
        "colab": {
          "base_uri": "https://localhost:8080/",
          "height": 363
        },
        "id": "oTnErQOkL3oa",
        "outputId": "5682ab06-ffd7-441c-9e0f-97adacc93c07"
      },
      "source": [
        "import pandas as pd\n",
        "df = pd.read_csv('https://raw.githubusercontent.com/marypazrf/bdd/main/EconomiesOfScale.csv')\n",
        "df.sample(10)"
      ],
      "execution_count": 48,
      "outputs": [
        {
          "output_type": "execute_result",
          "data": {
            "text/plain": [
              "     Number of Units  Manufacturing Cost\n",
              "522         4.522099           35.184621\n",
              "636         4.955669           39.806448\n",
              "432         4.229502           42.065907\n",
              "961         6.942155           23.531414\n",
              "932         6.488086           33.202574\n",
              "338         3.941359           39.665873\n",
              "724         5.248591           33.973200\n",
              "935         6.532977           25.434653\n",
              "21          1.784342           57.681940\n",
              "916         6.312071           32.452728"
            ],
            "text/html": [
              "\n",
              "  <div id=\"df-0d9cd8fe-41c7-453e-9b46-32e394763ad4\">\n",
              "    <div class=\"colab-df-container\">\n",
              "      <div>\n",
              "<style scoped>\n",
              "    .dataframe tbody tr th:only-of-type {\n",
              "        vertical-align: middle;\n",
              "    }\n",
              "\n",
              "    .dataframe tbody tr th {\n",
              "        vertical-align: top;\n",
              "    }\n",
              "\n",
              "    .dataframe thead th {\n",
              "        text-align: right;\n",
              "    }\n",
              "</style>\n",
              "<table border=\"1\" class=\"dataframe\">\n",
              "  <thead>\n",
              "    <tr style=\"text-align: right;\">\n",
              "      <th></th>\n",
              "      <th>Number of Units</th>\n",
              "      <th>Manufacturing Cost</th>\n",
              "    </tr>\n",
              "  </thead>\n",
              "  <tbody>\n",
              "    <tr>\n",
              "      <th>522</th>\n",
              "      <td>4.522099</td>\n",
              "      <td>35.184621</td>\n",
              "    </tr>\n",
              "    <tr>\n",
              "      <th>636</th>\n",
              "      <td>4.955669</td>\n",
              "      <td>39.806448</td>\n",
              "    </tr>\n",
              "    <tr>\n",
              "      <th>432</th>\n",
              "      <td>4.229502</td>\n",
              "      <td>42.065907</td>\n",
              "    </tr>\n",
              "    <tr>\n",
              "      <th>961</th>\n",
              "      <td>6.942155</td>\n",
              "      <td>23.531414</td>\n",
              "    </tr>\n",
              "    <tr>\n",
              "      <th>932</th>\n",
              "      <td>6.488086</td>\n",
              "      <td>33.202574</td>\n",
              "    </tr>\n",
              "    <tr>\n",
              "      <th>338</th>\n",
              "      <td>3.941359</td>\n",
              "      <td>39.665873</td>\n",
              "    </tr>\n",
              "    <tr>\n",
              "      <th>724</th>\n",
              "      <td>5.248591</td>\n",
              "      <td>33.973200</td>\n",
              "    </tr>\n",
              "    <tr>\n",
              "      <th>935</th>\n",
              "      <td>6.532977</td>\n",
              "      <td>25.434653</td>\n",
              "    </tr>\n",
              "    <tr>\n",
              "      <th>21</th>\n",
              "      <td>1.784342</td>\n",
              "      <td>57.681940</td>\n",
              "    </tr>\n",
              "    <tr>\n",
              "      <th>916</th>\n",
              "      <td>6.312071</td>\n",
              "      <td>32.452728</td>\n",
              "    </tr>\n",
              "  </tbody>\n",
              "</table>\n",
              "</div>\n",
              "      <button class=\"colab-df-convert\" onclick=\"convertToInteractive('df-0d9cd8fe-41c7-453e-9b46-32e394763ad4')\"\n",
              "              title=\"Convert this dataframe to an interactive table.\"\n",
              "              style=\"display:none;\">\n",
              "        \n",
              "  <svg xmlns=\"http://www.w3.org/2000/svg\" height=\"24px\"viewBox=\"0 0 24 24\"\n",
              "       width=\"24px\">\n",
              "    <path d=\"M0 0h24v24H0V0z\" fill=\"none\"/>\n",
              "    <path d=\"M18.56 5.44l.94 2.06.94-2.06 2.06-.94-2.06-.94-.94-2.06-.94 2.06-2.06.94zm-11 1L8.5 8.5l.94-2.06 2.06-.94-2.06-.94L8.5 2.5l-.94 2.06-2.06.94zm10 10l.94 2.06.94-2.06 2.06-.94-2.06-.94-.94-2.06-.94 2.06-2.06.94z\"/><path d=\"M17.41 7.96l-1.37-1.37c-.4-.4-.92-.59-1.43-.59-.52 0-1.04.2-1.43.59L10.3 9.45l-7.72 7.72c-.78.78-.78 2.05 0 2.83L4 21.41c.39.39.9.59 1.41.59.51 0 1.02-.2 1.41-.59l7.78-7.78 2.81-2.81c.8-.78.8-2.07 0-2.86zM5.41 20L4 18.59l7.72-7.72 1.47 1.35L5.41 20z\"/>\n",
              "  </svg>\n",
              "      </button>\n",
              "      \n",
              "  <style>\n",
              "    .colab-df-container {\n",
              "      display:flex;\n",
              "      flex-wrap:wrap;\n",
              "      gap: 12px;\n",
              "    }\n",
              "\n",
              "    .colab-df-convert {\n",
              "      background-color: #E8F0FE;\n",
              "      border: none;\n",
              "      border-radius: 50%;\n",
              "      cursor: pointer;\n",
              "      display: none;\n",
              "      fill: #1967D2;\n",
              "      height: 32px;\n",
              "      padding: 0 0 0 0;\n",
              "      width: 32px;\n",
              "    }\n",
              "\n",
              "    .colab-df-convert:hover {\n",
              "      background-color: #E2EBFA;\n",
              "      box-shadow: 0px 1px 2px rgba(60, 64, 67, 0.3), 0px 1px 3px 1px rgba(60, 64, 67, 0.15);\n",
              "      fill: #174EA6;\n",
              "    }\n",
              "\n",
              "    [theme=dark] .colab-df-convert {\n",
              "      background-color: #3B4455;\n",
              "      fill: #D2E3FC;\n",
              "    }\n",
              "\n",
              "    [theme=dark] .colab-df-convert:hover {\n",
              "      background-color: #434B5C;\n",
              "      box-shadow: 0px 1px 3px 1px rgba(0, 0, 0, 0.15);\n",
              "      filter: drop-shadow(0px 1px 2px rgba(0, 0, 0, 0.3));\n",
              "      fill: #FFFFFF;\n",
              "    }\n",
              "  </style>\n",
              "\n",
              "      <script>\n",
              "        const buttonEl =\n",
              "          document.querySelector('#df-0d9cd8fe-41c7-453e-9b46-32e394763ad4 button.colab-df-convert');\n",
              "        buttonEl.style.display =\n",
              "          google.colab.kernel.accessAllowed ? 'block' : 'none';\n",
              "\n",
              "        async function convertToInteractive(key) {\n",
              "          const element = document.querySelector('#df-0d9cd8fe-41c7-453e-9b46-32e394763ad4');\n",
              "          const dataTable =\n",
              "            await google.colab.kernel.invokeFunction('convertToInteractive',\n",
              "                                                     [key], {});\n",
              "          if (!dataTable) return;\n",
              "\n",
              "          const docLinkHtml = 'Like what you see? Visit the ' +\n",
              "            '<a target=\"_blank\" href=https://colab.research.google.com/notebooks/data_table.ipynb>data table notebook</a>'\n",
              "            + ' to learn more about interactive tables.';\n",
              "          element.innerHTML = '';\n",
              "          dataTable['output_type'] = 'display_data';\n",
              "          await google.colab.output.renderOutput(dataTable, element);\n",
              "          const docLink = document.createElement('div');\n",
              "          docLink.innerHTML = docLinkHtml;\n",
              "          element.appendChild(docLink);\n",
              "        }\n",
              "      </script>\n",
              "    </div>\n",
              "  </div>\n",
              "  "
            ]
          },
          "metadata": {},
          "execution_count": 48
        }
      ]
    },
    {
      "cell_type": "code",
      "metadata": {
        "id": "14kGO5nkMGlV"
      },
      "source": [
        "X = df[['Number of Units']]\n",
        "y = df['Manufacturing Cost']"
      ],
      "execution_count": 49,
      "outputs": []
    },
    {
      "cell_type": "code",
      "source": [
        "len(X)"
      ],
      "metadata": {
        "id": "ksh_OrkjY3GW",
        "outputId": "93059b42-1698-4096-eac9-414f365417ac",
        "colab": {
          "base_uri": "https://localhost:8080/"
        }
      },
      "execution_count": 50,
      "outputs": [
        {
          "output_type": "execute_result",
          "data": {
            "text/plain": [
              "1000"
            ]
          },
          "metadata": {},
          "execution_count": 50
        }
      ]
    },
    {
      "cell_type": "code",
      "source": [
        "y.describe"
      ],
      "metadata": {
        "colab": {
          "base_uri": "https://localhost:8080/"
        },
        "id": "bwR6SSqQDfC2",
        "outputId": "94b27186-92a9-41dd-a764-1f67e23d4542"
      },
      "execution_count": 51,
      "outputs": [
        {
          "output_type": "execute_result",
          "data": {
            "text/plain": [
              "<bound method NDFrame.describe of 0      95.066056\n",
              "1      96.531750\n",
              "2      73.661311\n",
              "3      95.566843\n",
              "4      98.777013\n",
              "         ...    \n",
              "995    23.855067\n",
              "996    27.536542\n",
              "997    25.973787\n",
              "998    25.138311\n",
              "999    21.547777\n",
              "Name: Manufacturing Cost, Length: 1000, dtype: float64>"
            ]
          },
          "metadata": {},
          "execution_count": 51
        }
      ]
    },
    {
      "cell_type": "code",
      "metadata": {
        "colab": {
          "base_uri": "https://localhost:8080/",
          "height": 283
        },
        "id": "idoEjfEhMoxk",
        "outputId": "badaf5e8-ccaf-42f6-b100-58e8ba09ee22"
      },
      "source": [
        "plt.plot(X,y,'b.')"
      ],
      "execution_count": 52,
      "outputs": [
        {
          "output_type": "execute_result",
          "data": {
            "text/plain": [
              "[<matplotlib.lines.Line2D at 0x7fef71769f90>]"
            ]
          },
          "metadata": {},
          "execution_count": 52
        },
        {
          "output_type": "display_data",
          "data": {
            "text/plain": [
              "<Figure size 432x288 with 1 Axes>"
            ],
            "image/png": "[encoded data removed]"
          },
          "metadata": {
            "needs_background": "light"
          }
        }
      ]
    },
    {
      "cell_type": "code",
      "source": [
        "# additional Libraries\n",
        "from sklearn.linear_model import LinearRegression\n",
        "from sklearn.preprocessing import PolynomialFeatures\n",
        "from sklearn import metrics\n",
        "from sklearn.metrics import r2_score\n",
        "from sklearn.model_selection import train_test_split\n"
      ],
      "metadata": {
        "id": "OYK6UfW5elcw"
      },
      "execution_count": 53,
      "outputs": []
    },
    {
      "cell_type": "code",
      "source": [
        "# data split\n",
        "X_train, X_test, y_train, y_test = train_test_split(X, y, test_size = 0.2, random_state = 101)\n"
      ],
      "metadata": {
        "id": "Np2UXy8Iokf2"
      },
      "execution_count": 54,
      "outputs": []
    },
    {
      "cell_type": "markdown",
      "source": [
        "### Lineal"
      ],
      "metadata": {
        "id": "dn0IkJoX1VLr"
      }
    },
    {
      "cell_type": "code",
      "source": [
        "#lineal"
      ],
      "metadata": {
        "id": "kMmOy97puOLE"
      },
      "execution_count": 55,
      "outputs": []
    },
    {
      "cell_type": "code",
      "source": [
        "# use LinearRegression and generate the model \n",
        "linear_reg = LinearRegression(fit_intercept=True)\n",
        "\n",
        "# train the model using the data: X_train, y_train\n",
        "linear_reg.fit(X_train, y_train)\n",
        "linear_reg.coef_, linear_reg.intercept_"
      ],
      "metadata": {
        "id": "TZlLGN49e70p",
        "outputId": "da36b9e1-7093-40b9-ef8a-ae95b0e0e489",
        "colab": {
          "base_uri": "https://localhost:8080/"
        }
      },
      "execution_count": 56,
      "outputs": [
        {
          "output_type": "execute_result",
          "data": {
            "text/plain": [
              "(array([-5.97912772]), 66.79997932683362)"
            ]
          },
          "metadata": {},
          "execution_count": 56
        }
      ]
    },
    {
      "cell_type": "markdown",
      "source": [
        "Model Estimation:\n",
        "\n",
        "$\\hat{y} =  -5.98X + 66.8$"
      ],
      "metadata": {
        "id": "NVnFbX5wfiqO"
      }
    },
    {
      "cell_type": "code",
      "source": [
        "# use test data to test the model and plot the results\n",
        "y_hat = linear_reg.predict(X_test)\n",
        "\n",
        "plt.scatter(X_test, y_test)\n",
        "plt.plot(X_test, y_hat, \"r\", linewidth=2, label=\"Predicciones\")\n",
        "plt.xlabel(\"$X$\", fontsize=18)\n",
        "plt.ylabel(\"$y$\", rotation=0, fontsize=18)\n",
        "plt.legend(loc=\"upper right\", fontsize=14);"
      ],
      "metadata": {
        "id": "nfd_pM7vfGwg",
        "outputId": "55cc4db8-b85e-4817-e801-d6caaed20768",
        "colab": {
          "base_uri": "https://localhost:8080/",
          "height": 287
        }
      },
      "execution_count": 57,
      "outputs": [
        {
          "output_type": "display_data",
          "data": {
            "text/plain": [
              "<Figure size 432x288 with 1 Axes>"
            ],
            "image/png": "[encoded data removed]"
          },
          "metadata": {
            "needs_background": "light"
          }
        }
      ]
    },
    {
      "cell_type": "code",
      "source": [
        "# Errors\n",
        "mae_lin = metrics.mean_absolute_error(y_test, y_hat)\n",
        "rmse_lin = np.sqrt(metrics.mean_squared_error(y_test, y_hat))\n",
        "r2_lin = r2_score(y_test, y_hat)\n",
        "print('Error medio Absoluto (MAE):', mae_lin)\n",
        "print('Root Mean Squared Error:', rmse_lin)\n",
        "print('r2_score', r2_lin)"
      ],
      "metadata": {
        "id": "AL_jOt3-nDcm",
        "outputId": "2bb49661-fd65-4e02-ed30-c1007be2abcd",
        "colab": {
          "base_uri": "https://localhost:8080/"
        }
      },
      "execution_count": 58,
      "outputs": [
        {
          "output_type": "stream",
          "name": "stdout",
          "text": [
            "Error medio Absoluto (MAE): 5.033403667160277\n",
            "Root Mean Squared Error: 7.067709647692056\n",
            "r2_score 0.595798333672179\n"
          ]
        }
      ]
    },
    {
      "cell_type": "markdown",
      "source": [
        "### Polynomial"
      ],
      "metadata": {
        "id": "SVRSbeU_1Zhq"
      }
    },
    {
      "cell_type": "code",
      "source": [
        "#polinomial"
      ],
      "metadata": {
        "id": "LWvfEDGKuoLJ"
      },
      "execution_count": 59,
      "outputs": []
    },
    {
      "cell_type": "code",
      "source": [
        "# add a second degree to the equation\n",
        "poly_features = PolynomialFeatures(degree=2, include_bias=False)\n",
        "X_train_poly = poly_features.fit_transform(X_train)"
      ],
      "metadata": {
        "id": "ROycHj3SiSPH"
      },
      "execution_count": 60,
      "outputs": []
    },
    {
      "cell_type": "code",
      "source": [
        "# use LinearRegression to generate a model \n",
        "linear_reg_p = LinearRegression(fit_intercept=True)\n",
        "\n",
        "# train the model using the polynomial data X_poly and output y\n",
        "linear_reg_p.fit(X_train_poly, y_train)\n",
        "linear_reg_p.coef_, linear_reg.intercept_"
      ],
      "metadata": {
        "id": "2BgmTWAhibIn",
        "outputId": "88d936fe-9e72-4589-ff1c-f6a5061d9013",
        "colab": {
          "base_uri": "https://localhost:8080/"
        }
      },
      "execution_count": 61,
      "outputs": [
        {
          "output_type": "execute_result",
          "data": {
            "text/plain": [
              "(array([-16.32506746,   1.12192589]), 66.79997932683362)"
            ]
          },
          "metadata": {},
          "execution_count": 61
        }
      ]
    },
    {
      "cell_type": "markdown",
      "source": [
        "Model Estimation:\n",
        "\n",
        "$\\hat{y} =  -16.32X +1.122X^2 + 2.13$"
      ],
      "metadata": {
        "id": "wN_g1IxNjVN3"
      }
    },
    {
      "cell_type": "code",
      "source": [
        "# use test data points to test the model and plot the results\n",
        "X_test_poly = poly_features.transform(X_test)\n",
        "\n",
        "y_hat2 = linear_reg_p.predict(X_test_poly)\n",
        "\n",
        "orders = np.argsort(X_test.to_numpy().ravel())\n",
        "\n",
        "plt.plot(X_test, y_test, \"b.\")\n",
        "plt.plot(X_test.iloc[orders], y_hat2[orders], \"r-\", label=\"Predictions\")\n",
        "plt.xlabel(\"$x_1$\", fontsize=18)\n",
        "plt.ylabel(\"$y$\", rotation=0, fontsize=18)\n",
        "plt.legend(loc=\"upper right\", fontsize=14)\n"
      ],
      "metadata": {
        "id": "FYgogbTRjsTI",
        "outputId": "006777d9-8ba2-4514-a192-bcc82ece540f",
        "colab": {
          "base_uri": "https://localhost:8080/",
          "height": 305
        }
      },
      "execution_count": 62,
      "outputs": [
        {
          "output_type": "execute_result",
          "data": {
            "text/plain": [
              "<matplotlib.legend.Legend at 0x7fef6e6a2b10>"
            ]
          },
          "metadata": {},
          "execution_count": 62
        },
        {
          "output_type": "display_data",
          "data": {
            "text/plain": [
              "<Figure size 432x288 with 1 Axes>"
            ],
            "image/png": "[encoded data removed]"
          },
          "metadata": {
            "needs_background": "light"
          }
        }
      ]
    },
    {
      "cell_type": "code",
      "metadata": {
        "id": "-VDz4zLK9Q0K",
        "outputId": "f2061669-7c9a-41c5-f0fb-7ce028daf519",
        "colab": {
          "base_uri": "https://localhost:8080/"
        }
      },
      "source": [
        "# Errors\n",
        "mae_poly = metrics.mean_absolute_error(y_test, y_hat2)\n",
        "rmse_poly = np.sqrt(metrics.mean_squared_error(y_test, y_hat2))\n",
        "r2_poly = r2_score(y_test, y_hat2)\n",
        "\n",
        "print('Error medio Absoluto (MAE):', mae_poly)\n",
        "print('Root Mean Squared Error:', rmse_poly)\n",
        "print('r2_score', r2_poly)"
      ],
      "execution_count": 63,
      "outputs": [
        {
          "output_type": "stream",
          "name": "stdout",
          "text": [
            "Error medio Absoluto (MAE): 4.410633826931783\n",
            "Root Mean Squared Error: 5.9655858389751355\n",
            "r2_score 0.7120302307125213\n"
          ]
        }
      ]
    },
    {
      "cell_type": "markdown",
      "source": [
        "### plot for Ridge and Lasso"
      ],
      "metadata": {
        "id": "bMFtD3vx5Sxj"
      }
    },
    {
      "cell_type": "code",
      "source": [
        "from sklearn.pipeline import make_pipeline\n",
        "from sklearn.preprocessing import StandardScaler\n",
        "\n",
        "def plot_model(X, y, Xtest, ytest, model_class, polynomial, deg, alphas, **model_kwargs):\n",
        "    plt.plot(Xtest, ytest, \"b.\", linewidth=1)\n",
        "    #plt.scatter(Xtest, ytest)\n",
        "    \n",
        "    for alpha, style in zip(alphas, (\"k:\", \"r-\", \"g+\")):\n",
        "        \n",
        "        if alpha > 0:\n",
        "            model = model_class(alpha, **model_kwargs)\n",
        "        else:\n",
        "            model = LinearRegression()\n",
        "        if polynomial:\n",
        "            model = make_pipeline(\n",
        "                PolynomialFeatures(degree=deg, include_bias=False),\n",
        "                StandardScaler(),\n",
        "                model)\n",
        "        \n",
        "        # train the model\n",
        "        model.fit(X, y)\n",
        "        # test the model\n",
        "        y_hat = model.predict(Xtest)\n",
        "        \n",
        "        orders = np.argsort(X_test.to_numpy().ravel())\n",
        "\n",
        "        plt.plot(X_test.iloc[orders], y_hat[orders], style, linewidth=2,\n",
        "                 label=fr\"$\\alpha = {alpha}$\")\n",
        "        \n",
        "        print('Polynomial degree={}, \\talpha={}, \\tr2_error={}'.format(deg, alpha, r2_score(y_test, y_hat)))\n",
        "\n",
        "    plt.legend(loc=\"upper right\")\n",
        "    plt.xlabel(\"$x$ - degree=\" + str(deg))\n",
        "    plt.grid()"
      ],
      "metadata": {
        "id": "JuSKDKn45Yci"
      },
      "execution_count": 64,
      "outputs": []
    },
    {
      "cell_type": "markdown",
      "source": [
        "### Ridge"
      ],
      "metadata": {
        "id": "6ntehGN01eqb"
      }
    },
    {
      "cell_type": "code",
      "source": [
        "from sklearn.linear_model import Ridge"
      ],
      "metadata": {
        "id": "dcxswd801jzK"
      },
      "execution_count": 65,
      "outputs": []
    },
    {
      "cell_type": "code",
      "source": [
        "ridge_reg = Ridge(alpha=0.1, solver=\"cholesky\")\n",
        "ridge_reg.fit(X_train, y_train)"
      ],
      "metadata": {
        "id": "BdQMtr9L1jv0",
        "outputId": "78dc8a04-908d-4635-b38d-0e0bb9bf8c11",
        "colab": {
          "base_uri": "https://localhost:8080/"
        }
      },
      "execution_count": 66,
      "outputs": [
        {
          "output_type": "execute_result",
          "data": {
            "text/plain": [
              "Ridge(alpha=0.1, solver='cholesky')"
            ]
          },
          "metadata": {},
          "execution_count": 66
        }
      ]
    },
    {
      "cell_type": "code",
      "source": [
        "plt.figure(figsize=(16, 4))\n",
        "\n",
        "plt.subplot(131)\n",
        "plot_model(X_train, y_train, X_test, y_test, Ridge, polynomial=True, deg=2, alphas=(0, 1, 10), random_state=69)\n",
        "plt.ylabel(\"$y$  \", rotation=0)\n",
        "\n",
        "plt.subplot(132)\n",
        "plot_model(X_train, y_train, X_test, y_test, Ridge, polynomial=True, deg=5, alphas=(0, 1, 10), random_state=69)\n",
        "\n",
        "plt.subplot(133)\n",
        "plot_model(X_train, y_train, X_test, y_test, Ridge, polynomial=True, deg=10, alphas=(0, 1, 10), random_state=69)\n",
        "\n",
        "plt.gca().axes.yaxis.set_ticklabels([])"
      ],
      "metadata": {
        "id": "z7pNCfRhPNYc",
        "colab": {
          "base_uri": "https://localhost:8080/",
          "height": 463
        },
        "outputId": "29b9bc1c-9bb5-4b6c-983a-9c6a42261ea0"
      },
      "execution_count": 67,
      "outputs": [
        {
          "output_type": "stream",
          "name": "stdout",
          "text": [
            "Polynomial degree=2, \talpha=0, \tr2_error=0.7120302307125211\n",
            "Polynomial degree=2, \talpha=1, \tr2_error=0.7092924774796326\n",
            "Polynomial degree=2, \talpha=10, \tr2_error=0.6779342698474319\n",
            "Polynomial degree=5, \talpha=0, \tr2_error=0.756423891386925\n",
            "Polynomial degree=5, \talpha=1, \tr2_error=0.7248491505368022\n",
            "Polynomial degree=5, \talpha=10, \tr2_error=0.6873066732720592\n",
            "Polynomial degree=10, \talpha=0, \tr2_error=0.7192877665522508\n",
            "Polynomial degree=10, \talpha=1, \tr2_error=0.7266727047140552\n",
            "Polynomial degree=10, \talpha=10, \tr2_error=0.6909487566251484\n"
          ]
        },
        {
          "output_type": "execute_result",
          "data": {
            "text/plain": [
              "[]"
            ]
          },
          "metadata": {},
          "execution_count": 67
        },
        {
          "output_type": "display_data",
          "data": {
            "text/plain": [
              "<Figure size 1152x288 with 3 Axes>"
            ],
            "image/png": "[encoded data removed]"
          },
          "metadata": {
            "needs_background": "light"
          }
        }
      ]
    },
    {
      "cell_type": "code",
      "source": [
        "# after checking the plots and errors with different alpha and degrees values, we choose:\n",
        "# Ridge with alpha=1 and a Polynomial with degree=5\n",
        "# (there's a sloight difference between erros in polynomial 2 and 5)\n",
        "# (alpha = 0 seems to overfit the model when the polynomial increases)\n",
        "\n",
        "ridge_reg = Ridge(alpha=10)\n",
        "ridge_model = make_pipeline(\n",
        "                PolynomialFeatures(degree=5, include_bias=False),\n",
        "                StandardScaler(),\n",
        "                ridge_reg)\n",
        "# train\n",
        "ridge_model.fit(X_train, y_train)\n",
        "ridge_reg.coef_, ridge_reg.intercept_"
      ],
      "metadata": {
        "id": "MO0ngGbv9tSs",
        "outputId": "64e75ee1-1085-4ffa-8711-9350f2aa108f",
        "colab": {
          "base_uri": "https://localhost:8080/"
        }
      },
      "execution_count": 68,
      "outputs": [
        {
          "output_type": "execute_result",
          "data": {
            "text/plain": [
              "(array([-13.53597729,   0.59531428,   4.88096675,   2.89857432,\n",
              "         -2.33023791]), 40.05315844786254)"
            ]
          },
          "metadata": {},
          "execution_count": 68
        }
      ]
    },
    {
      "cell_type": "markdown",
      "source": [
        "Model Estimation:\n",
        "\n",
        "Degree 5:\n",
        "\n",
        "$\\hat{y} =  -13.536X + 0.595X^2 + 4.881X^3 + 2.898X^4 - 2.330X^5 + 40.053$\n"
      ],
      "metadata": {
        "id": "WGJ2IUePC07i"
      }
    },
    {
      "cell_type": "code",
      "source": [
        "# use test data points to test the model and plot the results\n",
        "y_hat3 = ridge_model.predict(X_test)\n",
        "\n",
        "orders = np.argsort(X_test.to_numpy().ravel())\n",
        "\n",
        "plt.plot(X_test, y_test, \"b.\")\n",
        "plt.plot(X_test.iloc[orders], y_hat3[orders], \"r-\", label=\"Predictions\")\n",
        "plt.xlabel(\"$x_1$\", fontsize=18)\n",
        "plt.ylabel(\"$y$\", rotation=0, fontsize=18)\n",
        "plt.legend(loc=\"upper right\", fontsize=14)"
      ],
      "metadata": {
        "id": "RHOlEXMhC760",
        "outputId": "f3133461-6712-4e9e-f80b-1389d44e510b",
        "colab": {
          "base_uri": "https://localhost:8080/",
          "height": 305
        }
      },
      "execution_count": 69,
      "outputs": [
        {
          "output_type": "execute_result",
          "data": {
            "text/plain": [
              "<matplotlib.legend.Legend at 0x7fef6e42ee50>"
            ]
          },
          "metadata": {},
          "execution_count": 69
        },
        {
          "output_type": "display_data",
          "data": {
            "text/plain": [
              "<Figure size 432x288 with 1 Axes>"
            ],
            "image/png": "[encoded data removed]"
          },
          "metadata": {
            "needs_background": "light"
          }
        }
      ]
    },
    {
      "cell_type": "code",
      "source": [
        "# Errors\n",
        "mae_ridge = metrics.mean_absolute_error(y_test, y_hat3)\n",
        "rmse_ridge = np.sqrt(metrics.mean_squared_error(y_test, y_hat3))\n",
        "r2_ridge = r2_score(y_test, y_hat3)\n",
        "\n",
        "print('Error medio Absoluto (MAE):', mae_ridge)\n",
        "print('Root Mean Squared Error:', rmse_ridge)\n",
        "print('r2_score', r2_ridge)"
      ],
      "metadata": {
        "id": "gaBwdQWgPNSt",
        "colab": {
          "base_uri": "https://localhost:8080/"
        },
        "outputId": "e5bc1a19-207a-429a-9859-6cde22ac0b02"
      },
      "execution_count": 70,
      "outputs": [
        {
          "output_type": "stream",
          "name": "stdout",
          "text": [
            "Error medio Absoluto (MAE): 4.461103747963958\n",
            "Root Mean Squared Error: 6.21640006638687\n",
            "r2_score 0.6873066732720592\n"
          ]
        }
      ]
    },
    {
      "cell_type": "markdown",
      "source": [
        "### Lasso"
      ],
      "metadata": {
        "id": "SznHm4B71hUi"
      }
    },
    {
      "cell_type": "code",
      "source": [
        "from sklearn.linear_model import Lasso\n"
      ],
      "metadata": {
        "id": "kGAknaOl1lIC"
      },
      "execution_count": 71,
      "outputs": []
    },
    {
      "cell_type": "code",
      "source": [
        "plt.figure(figsize=(16, 4))\n",
        "\n",
        "plt.subplot(131)\n",
        "plot_model(X_train, y_train, X_test, y_test, Lasso, polynomial=True, deg=2, alphas=(0, 0.01, 0.1), random_state=69)\n",
        "plt.ylabel(\"$y$  \", rotation=0)\n",
        "\n",
        "plt.subplot(132)\n",
        "plot_model(X_train, y_train, X_test, y_test, Lasso, polynomial=True, deg=5, alphas=(0, 0.01, 0.1), random_state=69)\n",
        "\n",
        "plt.subplot(133)\n",
        "plot_model(X_train, y_train, X_test, y_test, Lasso, polynomial=True, deg=10, alphas=(0, 0.01, 0.1), random_state=69)\n",
        "\n",
        "plt.gca().axes.yaxis.set_ticklabels([])"
      ],
      "metadata": {
        "id": "eUAcvIWU6MXC",
        "outputId": "067902f9-2602-48fc-a327-b1e118f509af",
        "colab": {
          "base_uri": "https://localhost:8080/",
          "height": 556
        }
      },
      "execution_count": 72,
      "outputs": [
        {
          "output_type": "stream",
          "name": "stdout",
          "text": [
            "Polynomial degree=2, \talpha=0, \tr2_error=0.7120302307125211\n",
            "Polynomial degree=2, \talpha=0.01, \tr2_error=0.7108227043539002\n",
            "Polynomial degree=2, \talpha=0.1, \tr2_error=0.6916983522727777\n",
            "Polynomial degree=5, \talpha=0, \tr2_error=0.756423891386925\n",
            "Polynomial degree=5, \talpha=0.01, \tr2_error=0.7315073629039277\n",
            "Polynomial degree=5, \talpha=0.1, \tr2_error=0.6825481310382042\n",
            "Polynomial degree=10, \talpha=0, \tr2_error=0.7192877665522508\n",
            "Polynomial degree=10, \talpha=0.01, \tr2_error=0.7336174795996029\n",
            "Polynomial degree=10, \talpha=0.1, \tr2_error=0.692175145416103\n"
          ]
        },
        {
          "output_type": "stream",
          "name": "stderr",
          "text": [
            "/usr/local/lib/python3.7/dist-packages/sklearn/linear_model/_coordinate_descent.py:648: ConvergenceWarning: Objective did not converge. You might want to increase the number of iterations, check the scale of the features or consider increasing regularisation. Duality gap: 3.399e+02, tolerance: 8.743e+00\n",
            "  coef_, l1_reg, l2_reg, X, y, max_iter, tol, rng, random, positive\n",
            "/usr/local/lib/python3.7/dist-packages/sklearn/linear_model/_coordinate_descent.py:648: ConvergenceWarning: Objective did not converge. You might want to increase the number of iterations, check the scale of the features or consider increasing regularisation. Duality gap: 9.358e+02, tolerance: 8.743e+00\n",
            "  coef_, l1_reg, l2_reg, X, y, max_iter, tol, rng, random, positive\n"
          ]
        },
        {
          "output_type": "execute_result",
          "data": {
            "text/plain": [
              "[]"
            ]
          },
          "metadata": {},
          "execution_count": 72
        },
        {
          "output_type": "display_data",
          "data": {
            "text/plain": [
              "<Figure size 1152x288 with 3 Axes>"
            ],
            "image/png": "[encoded data removed]"
          },
          "metadata": {
            "needs_background": "light"
          }
        }
      ]
    },
    {
      "cell_type": "code",
      "source": [
        "# after checking the plots and errors with different alpha and degrees values, we choose:\n",
        "# Lasso with alpha=0.01 and a Polynomial with degree=5\n",
        "# (greater than 2 polynomial degree throws a convergence warning)\n",
        "# (alpha = 0 seems to overfit the model)\n",
        "\n",
        "lasso_reg = Lasso(alpha=0.01)\n",
        "lasso_model = make_pipeline(\n",
        "                PolynomialFeatures(degree=5, include_bias=False),\n",
        "                StandardScaler(),\n",
        "                lasso_reg)\n",
        "# train\n",
        "lasso_model.fit(X_train, y_train)\n",
        "lasso_reg.coef_, lasso_reg.intercept_\n",
        "\n"
      ],
      "metadata": {
        "id": "BvwLaFFc1lE6",
        "outputId": "a541f99a-aec6-4fd9-df09-b1c2c37eca2d",
        "colab": {
          "base_uri": "https://localhost:8080/"
        }
      },
      "execution_count": 73,
      "outputs": [
        {
          "output_type": "stream",
          "name": "stderr",
          "text": [
            "/usr/local/lib/python3.7/dist-packages/sklearn/linear_model/_coordinate_descent.py:648: ConvergenceWarning: Objective did not converge. You might want to increase the number of iterations, check the scale of the features or consider increasing regularisation. Duality gap: 3.399e+02, tolerance: 8.743e+00\n",
            "  coef_, l1_reg, l2_reg, X, y, max_iter, tol, rng, random, positive\n"
          ]
        },
        {
          "output_type": "execute_result",
          "data": {
            "text/plain": [
              "(array([-28.48494431,  23.82773453,   0.        ,  -0.07594307,\n",
              "         -3.55314702]), 40.05315844786256)"
            ]
          },
          "metadata": {},
          "execution_count": 73
        }
      ]
    },
    {
      "cell_type": "markdown",
      "source": [
        "Model Estimation:\n",
        "\n",
        "Degree 2:\n",
        "\n",
        "$\\hat{y} =  -21.16X +13.574X^2 + 40.053$\n",
        "\n",
        "Degree 5:\n",
        "\n",
        "$\\hat{y} = -28.485X + 23.827X^2 - 0.076X^4 - 3.55X^5 + 40.053$"
      ],
      "metadata": {
        "id": "RncUFhWkRtbz"
      }
    },
    {
      "cell_type": "code",
      "source": [
        "# use test data points to test the model and plot the results\n",
        "y_hat4 = lasso_model.predict(X_test)\n",
        "\n",
        "orders = np.argsort(X_test.to_numpy().ravel())\n",
        "\n",
        "plt.plot(X_test, y_test, \"b.\")\n",
        "plt.plot(X_test.iloc[orders], y_hat4[orders], \"r-\", label=\"Predictions\")\n",
        "plt.xlabel(\"$x_1$\", fontsize=18)\n",
        "plt.ylabel(\"$y$\", rotation=0, fontsize=18)\n",
        "plt.legend(loc=\"upper right\", fontsize=14)\n"
      ],
      "metadata": {
        "id": "R1kVgEBTDJI3",
        "outputId": "83712381-f6df-4581-9c0e-03fc51b86160",
        "colab": {
          "base_uri": "https://localhost:8080/",
          "height": 305
        }
      },
      "execution_count": 74,
      "outputs": [
        {
          "output_type": "execute_result",
          "data": {
            "text/plain": [
              "<matplotlib.legend.Legend at 0x7fef6e4b0610>"
            ]
          },
          "metadata": {},
          "execution_count": 74
        },
        {
          "output_type": "display_data",
          "data": {
            "text/plain": [
              "<Figure size 432x288 with 1 Axes>"
            ],
            "image/png": "[encoded data removed]"
          },
          "metadata": {
            "needs_background": "light"
          }
        }
      ]
    },
    {
      "cell_type": "code",
      "source": [
        "# Errors\n",
        "mae_lasso = metrics.mean_absolute_error(y_test, y_hat4)\n",
        "rmse_lasso = np.sqrt(metrics.mean_squared_error(y_test, y_hat4))\n",
        "r2_lasso = r2_score(y_test, y_hat4)\n",
        "\n",
        "print('Error medio Absoluto (MAE):', mae_lasso)\n",
        "print('Root Mean Squared Error:', rmse_lasso)\n",
        "print('r2_score', r2_lasso)"
      ],
      "metadata": {
        "id": "R18fjfeRO4ls",
        "outputId": "a82d3059-5116-4e81-bb9e-e874476496da",
        "colab": {
          "base_uri": "https://localhost:8080/"
        }
      },
      "execution_count": 75,
      "outputs": [
        {
          "output_type": "stream",
          "name": "stdout",
          "text": [
            "Error medio Absoluto (MAE): 4.335483342801762\n",
            "Root Mean Squared Error: 5.760309786458159\n",
            "r2_score 0.7315073629039277\n"
          ]
        }
      ]
    },
    {
      "cell_type": "code",
      "source": [
        "res = [r2_lin, r2_poly, r2_ridge, r2_lasso]\n",
        "names = ['RL', 'RP', 'Ridge', 'Lasso']\n",
        "\n",
        "fig = plt.figure()\n",
        "aux = fig.add_axes([0,0,1,1])\n",
        "aux.bar(names, res)\n",
        "plt.show()\n",
        "\n",
        "print('R Cuadrados:', res)"
      ],
      "metadata": {
        "id": "TtMLdQyb7Dnt",
        "outputId": "45cee0c4-1eba-415c-f1e7-941ff81f166e",
        "colab": {
          "base_uri": "https://localhost:8080/",
          "height": 354
        }
      },
      "execution_count": 78,
      "outputs": [
        {
          "output_type": "display_data",
          "data": {
            "text/plain": [
              "<Figure size 432x288 with 1 Axes>"
            ],
            "image/png": "[encoded data removed]"
          },
          "metadata": {
            "needs_background": "light"
          }
        },
        {
          "output_type": "stream",
          "name": "stdout",
          "text": [
            "R Cuadrados: [0.595798333672179, 0.7120302307125213, 0.6873066732720592, 0.7315073629039277]\n"
          ]
        }
      ]
    },
    {
      "cell_type": "markdown",
      "source": [
        "### Conclusiones\n",
        "\n",
        "Para el modelo Lasso, la variación de los errores es muy poca al aumentar el grado del polinomio de 5 a 10. Aumetando el grado se consigue que el modelo se sobre entrene pero no mejora los resultados con datos nuevos. La  opción más económioca es manejarlo con un grado 2 a 5 y un alpha de 0.01.\n",
        "\n",
        "Una situación similar se puede ver con Ridge, donde usar un polinomio de grado 5 o 10 no muestra mejora en los errores y en cambio parece tener un sobreentrenamiento. El uso de un alpha muy bajo en Ridge hace que la complejidad del modelo se incremente.\n",
        "\n",
        "El modelo más conveniente es el Lasso o la Regresion Polinomial (si se quiere un modelo con menos complejidad), donde el valor de los R cuadrados es superor a 0.7, manejando unos parámetros que no llegan a sobre-entrenar el modelo."
      ],
      "metadata": {
        "id": "6b9OtjN9QphL"
      }
    },
    {
      "cell_type": "markdown",
      "metadata": {
        "id": "CfqcmLmxLoe9"
      },
      "source": [
        "#Ejercicio 2\n",
        "Realiza la regresión polinomial de los siguientes datos:"
      ]
    },
    {
      "cell_type": "code",
      "source": [
        "# libraries\n",
        "import numpy as np\n",
        "%matplotlib inline\n",
        "import matplotlib\n",
        "import matplotlib.pyplot as plt\n",
        "import pandas as pd\n",
        "import seaborn as sns\n",
        "# to make this notebook's output stable across runs\n",
        "np.random.seed(42)\n",
        "\n",
        "from sklearn.model_selection import train_test_split\n",
        "from sklearn.pipeline import make_pipeline\n",
        "\n",
        "from sklearn.preprocessing import StandardScaler\n",
        "from sklearn.preprocessing import PolynomialFeatures\n",
        "\n",
        "from sklearn.linear_model import LinearRegression\n",
        "from sklearn.linear_model import Lasso\n",
        "from sklearn.linear_model import Ridge\n",
        "\n",
        "# additional Libraries\n",
        "from sklearn.linear_model import LinearRegression\n",
        "from sklearn.preprocessing import PolynomialFeatures\n",
        "from sklearn import metrics\n",
        "from sklearn.metrics import r2_score\n",
        "from sklearn.model_selection import train_test_split"
      ],
      "metadata": {
        "id": "mPd1P5RsHLsr"
      },
      "execution_count": 79,
      "outputs": []
    },
    {
      "cell_type": "code",
      "source": [
        "df = pd.read_csv('https://raw.githubusercontent.com/marypazrf/bdd/main/kc_house_data.csv')\n",
        "df.sample(10)"
      ],
      "metadata": {
        "id": "57bn0j38qGrg",
        "outputId": "2ede70d6-c834-4e5f-9c3f-90dba57d6c47",
        "colab": {
          "base_uri": "https://localhost:8080/",
          "height": 456
        }
      },
      "execution_count": 80,
      "outputs": [
        {
          "output_type": "execute_result",
          "data": {
            "text/plain": [
              "               id             date      price  bedrooms  bathrooms  \\\n",
              "735    2591820310  20141006T000000   365000.0         4       2.25   \n",
              "2830   7974200820  20140821T000000   865000.0         5       3.00   \n",
              "4106   7701450110  20140815T000000  1038000.0         4       2.50   \n",
              "16218  9522300010  20150331T000000  1490000.0         3       3.50   \n",
              "19964  9510861140  20140714T000000   711000.0         3       2.50   \n",
              "1227   1761300310  20140827T000000   211000.0         4       2.00   \n",
              "18849  7732410120  20140819T000000   790000.0         4       2.50   \n",
              "19369  7010701383  20141017T000000   680000.0         3       2.50   \n",
              "20164   291310170  20140804T000000   384500.0         3       2.50   \n",
              "7139   4232901990  20140516T000000   605000.0         2       1.00   \n",
              "\n",
              "       sqft_living  sqft_lot  floors  waterfront  view  ...  grade  \\\n",
              "735           2070      8893     2.0           0     0  ...      8   \n",
              "2830          2900      6730     1.0           0     0  ...      8   \n",
              "4106          3770     10893     2.0           0     2  ...     11   \n",
              "16218         4560     14608     2.0           0     2  ...     12   \n",
              "19964         2550      5376     2.0           0     0  ...      9   \n",
              "1227          1710      8288     1.5           0     0  ...      7   \n",
              "18849         2690      8036     2.0           0     0  ...      9   \n",
              "19369         1800      4400     1.0           0     0  ...      7   \n",
              "20164         1600      2610     2.0           0     0  ...      8   \n",
              "7139           910      3600     1.0           0     0  ...      7   \n",
              "\n",
              "       sqft_above  sqft_basement  yr_built  yr_renovated  zipcode      lat  \\\n",
              "735          2070              0      1986             0    98058  47.4388   \n",
              "2830         1830           1070      1977             0    98115  47.6784   \n",
              "4106         3770              0      1997             0    98006  47.5646   \n",
              "16218        4560              0      1990             0    98034  47.6995   \n",
              "19964        2550              0      2004             0    98052  47.6647   \n",
              "1227         1710              0      1970             0    98031  47.3947   \n",
              "18849        2690              0      1987             0    98007  47.6596   \n",
              "19369        1350            450      1970             0    98199  47.6599   \n",
              "20164        1600              0      2005             0    98027  47.5344   \n",
              "7139          910              0      1909             0    98119  47.6341   \n",
              "\n",
              "          long  sqft_living15  sqft_lot15  \n",
              "735   -122.162           2390        7700  \n",
              "2830  -122.285           2370        6283  \n",
              "4106  -122.129           3710        9685  \n",
              "16218 -122.228           4050       14226  \n",
              "19964 -122.083           2250        4050  \n",
              "1227  -122.174           1710        7200  \n",
              "18849 -122.144           2420        8087  \n",
              "19369 -122.396           1920        4400  \n",
              "20164 -122.068           1445        1288  \n",
              "7139  -122.361           1720        3600  \n",
              "\n",
              "[10 rows x 21 columns]"
            ],
            "text/html": [
              "\n",
              "  <div id=\"df-66165e84-cba8-493c-a0b4-1616423ef3d3\">\n",
              "    <div class=\"colab-df-container\">\n",
              "      <div>\n",
              "<style scoped>\n",
              "    .dataframe tbody tr th:only-of-type {\n",
              "        vertical-align: middle;\n",
              "    }\n",
              "\n",
              "    .dataframe tbody tr th {\n",
              "        vertical-align: top;\n",
              "    }\n",
              "\n",
              "    .dataframe thead th {\n",
              "        text-align: right;\n",
              "    }\n",
              "</style>\n",
              "<table border=\"1\" class=\"dataframe\">\n",
              "  <thead>\n",
              "    <tr style=\"text-align: right;\">\n",
              "      <th></th>\n",
              "      <th>id</th>\n",
              "      <th>date</th>\n",
              "      <th>price</th>\n",
              "      <th>bedrooms</th>\n",
              "      <th>bathrooms</th>\n",
              "      <th>sqft_living</th>\n",
              "      <th>sqft_lot</th>\n",
              "      <th>floors</th>\n",
              "      <th>waterfront</th>\n",
              "      <th>view</th>\n",
              "      <th>...</th>\n",
              "      <th>grade</th>\n",
              "      <th>sqft_above</th>\n",
              "      <th>sqft_basement</th>\n",
              "      <th>yr_built</th>\n",
              "      <th>yr_renovated</th>\n",
              "      <th>zipcode</th>\n",
              "      <th>lat</th>\n",
              "      <th>long</th>\n",
              "      <th>sqft_living15</th>\n",
              "      <th>sqft_lot15</th>\n",
              "    </tr>\n",
              "  </thead>\n",
              "  <tbody>\n",
              "    <tr>\n",
              "      <th>735</th>\n",
              "      <td>2591820310</td>\n",
              "      <td>20141006T000000</td>\n",
              "      <td>365000.0</td>\n",
              "      <td>4</td>\n",
              "      <td>2.25</td>\n",
              "      <td>2070</td>\n",
              "      <td>8893</td>\n",
              "      <td>2.0</td>\n",
              "      <td>0</td>\n",
              "      <td>0</td>\n",
              "      <td>...</td>\n",
              "      <td>8</td>\n",
              "      <td>2070</td>\n",
              "      <td>0</td>\n",
              "      <td>1986</td>\n",
              "      <td>0</td>\n",
              "      <td>98058</td>\n",
              "      <td>47.4388</td>\n",
              "      <td>-122.162</td>\n",
              "      <td>2390</td>\n",
              "      <td>7700</td>\n",
              "    </tr>\n",
              "    <tr>\n",
              "      <th>2830</th>\n",
              "      <td>7974200820</td>\n",
              "      <td>20140821T000000</td>\n",
              "      <td>865000.0</td>\n",
              "      <td>5</td>\n",
              "      <td>3.00</td>\n",
              "      <td>2900</td>\n",
              "      <td>6730</td>\n",
              "      <td>1.0</td>\n",
              "      <td>0</td>\n",
              "      <td>0</td>\n",
              "      <td>...</td>\n",
              "      <td>8</td>\n",
              "      <td>1830</td>\n",
              "      <td>1070</td>\n",
              "      <td>1977</td>\n",
              "      <td>0</td>\n",
              "      <td>98115</td>\n",
              "      <td>47.6784</td>\n",
              "      <td>-122.285</td>\n",
              "      <td>2370</td>\n",
              "      <td>6283</td>\n",
              "    </tr>\n",
              "    <tr>\n",
              "      <th>4106</th>\n",
              "      <td>7701450110</td>\n",
              "      <td>20140815T000000</td>\n",
              "      <td>1038000.0</td>\n",
              "      <td>4</td>\n",
              "      <td>2.50</td>\n",
              "      <td>3770</td>\n",
              "      <td>10893</td>\n",
              "      <td>2.0</td>\n",
              "      <td>0</td>\n",
              "      <td>2</td>\n",
              "      <td>...</td>\n",
              "      <td>11</td>\n",
              "      <td>3770</td>\n",
              "      <td>0</td>\n",
              "      <td>1997</td>\n",
              "      <td>0</td>\n",
              "      <td>98006</td>\n",
              "      <td>47.5646</td>\n",
              "      <td>-122.129</td>\n",
              "      <td>3710</td>\n",
              "      <td>9685</td>\n",
              "    </tr>\n",
              "    <tr>\n",
              "      <th>16218</th>\n",
              "      <td>9522300010</td>\n",
              "      <td>20150331T000000</td>\n",
              "      <td>1490000.0</td>\n",
              "      <td>3</td>\n",
              "      <td>3.50</td>\n",
              "      <td>4560</td>\n",
              "      <td>14608</td>\n",
              "      <td>2.0</td>\n",
              "      <td>0</td>\n",
              "      <td>2</td>\n",
              "      <td>...</td>\n",
              "      <td>12</td>\n",
              "      <td>4560</td>\n",
              "      <td>0</td>\n",
              "      <td>1990</td>\n",
              "      <td>0</td>\n",
              "      <td>98034</td>\n",
              "      <td>47.6995</td>\n",
              "      <td>-122.228</td>\n",
              "      <td>4050</td>\n",
              "      <td>14226</td>\n",
              "    </tr>\n",
              "    <tr>\n",
              "      <th>19964</th>\n",
              "      <td>9510861140</td>\n",
              "      <td>20140714T000000</td>\n",
              "      <td>711000.0</td>\n",
              "      <td>3</td>\n",
              "      <td>2.50</td>\n",
              "      <td>2550</td>\n",
              "      <td>5376</td>\n",
              "      <td>2.0</td>\n",
              "      <td>0</td>\n",
              "      <td>0</td>\n",
              "      <td>...</td>\n",
              "      <td>9</td>\n",
              "      <td>2550</td>\n",
              "      <td>0</td>\n",
              "      <td>2004</td>\n",
              "      <td>0</td>\n",
              "      <td>98052</td>\n",
              "      <td>47.6647</td>\n",
              "      <td>-122.083</td>\n",
              "      <td>2250</td>\n",
              "      <td>4050</td>\n",
              "    </tr>\n",
              "    <tr>\n",
              "      <th>1227</th>\n",
              "      <td>1761300310</td>\n",
              "      <td>20140827T000000</td>\n",
              "      <td>211000.0</td>\n",
              "      <td>4</td>\n",
              "      <td>2.00</td>\n",
              "      <td>1710</td>\n",
              "      <td>8288</td>\n",
              "      <td>1.5</td>\n",
              "      <td>0</td>\n",
              "      <td>0</td>\n",
              "      <td>...</td>\n",
              "      <td>7</td>\n",
              "      <td>1710</td>\n",
              "      <td>0</td>\n",
              "      <td>1970</td>\n",
              "      <td>0</td>\n",
              "      <td>98031</td>\n",
              "      <td>47.3947</td>\n",
              "      <td>-122.174</td>\n",
              "      <td>1710</td>\n",
              "      <td>7200</td>\n",
              "    </tr>\n",
              "    <tr>\n",
              "      <th>18849</th>\n",
              "      <td>7732410120</td>\n",
              "      <td>20140819T000000</td>\n",
              "      <td>790000.0</td>\n",
              "      <td>4</td>\n",
              "      <td>2.50</td>\n",
              "      <td>2690</td>\n",
              "      <td>8036</td>\n",
              "      <td>2.0</td>\n",
              "      <td>0</td>\n",
              "      <td>0</td>\n",
              "      <td>...</td>\n",
              "      <td>9</td>\n",
              "      <td>2690</td>\n",
              "      <td>0</td>\n",
              "      <td>1987</td>\n",
              "      <td>0</td>\n",
              "      <td>98007</td>\n",
              "      <td>47.6596</td>\n",
              "      <td>-122.144</td>\n",
              "      <td>2420</td>\n",
              "      <td>8087</td>\n",
              "    </tr>\n",
              "    <tr>\n",
              "      <th>19369</th>\n",
              "      <td>7010701383</td>\n",
              "      <td>20141017T000000</td>\n",
              "      <td>680000.0</td>\n",
              "      <td>3</td>\n",
              "      <td>2.50</td>\n",
              "      <td>1800</td>\n",
              "      <td>4400</td>\n",
              "      <td>1.0</td>\n",
              "      <td>0</td>\n",
              "      <td>0</td>\n",
              "      <td>...</td>\n",
              "      <td>7</td>\n",
              "      <td>1350</td>\n",
              "      <td>450</td>\n",
              "      <td>1970</td>\n",
              "      <td>0</td>\n",
              "      <td>98199</td>\n",
              "      <td>47.6599</td>\n",
              "      <td>-122.396</td>\n",
              "      <td>1920</td>\n",
              "      <td>4400</td>\n",
              "    </tr>\n",
              "    <tr>\n",
              "      <th>20164</th>\n",
              "      <td>291310170</td>\n",
              "      <td>20140804T000000</td>\n",
              "      <td>384500.0</td>\n",
              "      <td>3</td>\n",
              "      <td>2.50</td>\n",
              "      <td>1600</td>\n",
              "      <td>2610</td>\n",
              "      <td>2.0</td>\n",
              "      <td>0</td>\n",
              "      <td>0</td>\n",
              "      <td>...</td>\n",
              "      <td>8</td>\n",
              "      <td>1600</td>\n",
              "      <td>0</td>\n",
              "      <td>2005</td>\n",
              "      <td>0</td>\n",
              "      <td>98027</td>\n",
              "      <td>47.5344</td>\n",
              "      <td>-122.068</td>\n",
              "      <td>1445</td>\n",
              "      <td>1288</td>\n",
              "    </tr>\n",
              "    <tr>\n",
              "      <th>7139</th>\n",
              "      <td>4232901990</td>\n",
              "      <td>20140516T000000</td>\n",
              "      <td>605000.0</td>\n",
              "      <td>2</td>\n",
              "      <td>1.00</td>\n",
              "      <td>910</td>\n",
              "      <td>3600</td>\n",
              "      <td>1.0</td>\n",
              "      <td>0</td>\n",
              "      <td>0</td>\n",
              "      <td>...</td>\n",
              "      <td>7</td>\n",
              "      <td>910</td>\n",
              "      <td>0</td>\n",
              "      <td>1909</td>\n",
              "      <td>0</td>\n",
              "      <td>98119</td>\n",
              "      <td>47.6341</td>\n",
              "      <td>-122.361</td>\n",
              "      <td>1720</td>\n",
              "      <td>3600</td>\n",
              "    </tr>\n",
              "  </tbody>\n",
              "</table>\n",
              "<p>10 rows × 21 columns</p>\n",
              "</div>\n",
              "      <button class=\"colab-df-convert\" onclick=\"convertToInteractive('df-66165e84-cba8-493c-a0b4-1616423ef3d3')\"\n",
              "              title=\"Convert this dataframe to an interactive table.\"\n",
              "              style=\"display:none;\">\n",
              "        \n",
              "  <svg xmlns=\"http://www.w3.org/2000/svg\" height=\"24px\"viewBox=\"0 0 24 24\"\n",
              "       width=\"24px\">\n",
              "    <path d=\"M0 0h24v24H0V0z\" fill=\"none\"/>\n",
              "    <path d=\"M18.56 5.44l.94 2.06.94-2.06 2.06-.94-2.06-.94-.94-2.06-.94 2.06-2.06.94zm-11 1L8.5 8.5l.94-2.06 2.06-.94-2.06-.94L8.5 2.5l-.94 2.06-2.06.94zm10 10l.94 2.06.94-2.06 2.06-.94-2.06-.94-.94-2.06-.94 2.06-2.06.94z\"/><path d=\"M17.41 7.96l-1.37-1.37c-.4-.4-.92-.59-1.43-.59-.52 0-1.04.2-1.43.59L10.3 9.45l-7.72 7.72c-.78.78-.78 2.05 0 2.83L4 21.41c.39.39.9.59 1.41.59.51 0 1.02-.2 1.41-.59l7.78-7.78 2.81-2.81c.8-.78.8-2.07 0-2.86zM5.41 20L4 18.59l7.72-7.72 1.47 1.35L5.41 20z\"/>\n",
              "  </svg>\n",
              "      </button>\n",
              "      \n",
              "  <style>\n",
              "    .colab-df-container {\n",
              "      display:flex;\n",
              "      flex-wrap:wrap;\n",
              "      gap: 12px;\n",
              "    }\n",
              "\n",
              "    .colab-df-convert {\n",
              "      background-color: #E8F0FE;\n",
              "      border: none;\n",
              "      border-radius: 50%;\n",
              "      cursor: pointer;\n",
              "      display: none;\n",
              "      fill: #1967D2;\n",
              "      height: 32px;\n",
              "      padding: 0 0 0 0;\n",
              "      width: 32px;\n",
              "    }\n",
              "\n",
              "    .colab-df-convert:hover {\n",
              "      background-color: #E2EBFA;\n",
              "      box-shadow: 0px 1px 2px rgba(60, 64, 67, 0.3), 0px 1px 3px 1px rgba(60, 64, 67, 0.15);\n",
              "      fill: #174EA6;\n",
              "    }\n",
              "\n",
              "    [theme=dark] .colab-df-convert {\n",
              "      background-color: #3B4455;\n",
              "      fill: #D2E3FC;\n",
              "    }\n",
              "\n",
              "    [theme=dark] .colab-df-convert:hover {\n",
              "      background-color: #434B5C;\n",
              "      box-shadow: 0px 1px 3px 1px rgba(0, 0, 0, 0.15);\n",
              "      filter: drop-shadow(0px 1px 2px rgba(0, 0, 0, 0.3));\n",
              "      fill: #FFFFFF;\n",
              "    }\n",
              "  </style>\n",
              "\n",
              "      <script>\n",
              "        const buttonEl =\n",
              "          document.querySelector('#df-66165e84-cba8-493c-a0b4-1616423ef3d3 button.colab-df-convert');\n",
              "        buttonEl.style.display =\n",
              "          google.colab.kernel.accessAllowed ? 'block' : 'none';\n",
              "\n",
              "        async function convertToInteractive(key) {\n",
              "          const element = document.querySelector('#df-66165e84-cba8-493c-a0b4-1616423ef3d3');\n",
              "          const dataTable =\n",
              "            await google.colab.kernel.invokeFunction('convertToInteractive',\n",
              "                                                     [key], {});\n",
              "          if (!dataTable) return;\n",
              "\n",
              "          const docLinkHtml = 'Like what you see? Visit the ' +\n",
              "            '<a target=\"_blank\" href=https://colab.research.google.com/notebooks/data_table.ipynb>data table notebook</a>'\n",
              "            + ' to learn more about interactive tables.';\n",
              "          element.innerHTML = '';\n",
              "          dataTable['output_type'] = 'display_data';\n",
              "          await google.colab.output.renderOutput(dataTable, element);\n",
              "          const docLink = document.createElement('div');\n",
              "          docLink.innerHTML = docLinkHtml;\n",
              "          element.appendChild(docLink);\n",
              "        }\n",
              "      </script>\n",
              "    </div>\n",
              "  </div>\n",
              "  "
            ]
          },
          "metadata": {},
          "execution_count": 80
        }
      ]
    },
    {
      "cell_type": "code",
      "source": [
        "df.info()"
      ],
      "metadata": {
        "id": "n0fs14KoqI3M",
        "outputId": "d259a3a3-47c9-4c42-9299-3a75c91d5285",
        "colab": {
          "base_uri": "https://localhost:8080/"
        }
      },
      "execution_count": 81,
      "outputs": [
        {
          "output_type": "stream",
          "name": "stdout",
          "text": [
            "<class 'pandas.core.frame.DataFrame'>\n",
            "RangeIndex: 21613 entries, 0 to 21612\n",
            "Data columns (total 21 columns):\n",
            " #   Column         Non-Null Count  Dtype  \n",
            "---  ------         --------------  -----  \n",
            " 0   id             21613 non-null  int64  \n",
            " 1   date           21613 non-null  object \n",
            " 2   price          21613 non-null  float64\n",
            " 3   bedrooms       21613 non-null  int64  \n",
            " 4   bathrooms      21613 non-null  float64\n",
            " 5   sqft_living    21613 non-null  int64  \n",
            " 6   sqft_lot       21613 non-null  int64  \n",
            " 7   floors         21613 non-null  float64\n",
            " 8   waterfront     21613 non-null  int64  \n",
            " 9   view           21613 non-null  int64  \n",
            " 10  condition      21613 non-null  int64  \n",
            " 11  grade          21613 non-null  int64  \n",
            " 12  sqft_above     21613 non-null  int64  \n",
            " 13  sqft_basement  21613 non-null  int64  \n",
            " 14  yr_built       21613 non-null  int64  \n",
            " 15  yr_renovated   21613 non-null  int64  \n",
            " 16  zipcode        21613 non-null  int64  \n",
            " 17  lat            21613 non-null  float64\n",
            " 18  long           21613 non-null  float64\n",
            " 19  sqft_living15  21613 non-null  int64  \n",
            " 20  sqft_lot15     21613 non-null  int64  \n",
            "dtypes: float64(5), int64(15), object(1)\n",
            "memory usage: 3.5+ MB\n"
          ]
        }
      ]
    },
    {
      "cell_type": "code",
      "source": [
        "df.describe()"
      ],
      "metadata": {
        "id": "1PNzDJZeqKhe",
        "outputId": "b85a180d-b673-4b48-8449-5b43d95b92d9",
        "colab": {
          "base_uri": "https://localhost:8080/",
          "height": 364
        }
      },
      "execution_count": 82,
      "outputs": [
        {
          "output_type": "execute_result",
          "data": {
            "text/plain": [
              "                 id         price      bedrooms     bathrooms   sqft_living  \\\n",
              "count  2.161300e+04  2.161300e+04  21613.000000  21613.000000  21613.000000   \n",
              "mean   4.580302e+09  5.400881e+05      3.370842      2.114757   2079.899736   \n",
              "std    2.876566e+09  3.671272e+05      0.930062      0.770163    918.440897   \n",
              "min    1.000102e+06  7.500000e+04      0.000000      0.000000    290.000000   \n",
              "25%    2.123049e+09  3.219500e+05      3.000000      1.750000   1427.000000   \n",
              "50%    3.904930e+09  4.500000e+05      3.000000      2.250000   1910.000000   \n",
              "75%    7.308900e+09  6.450000e+05      4.000000      2.500000   2550.000000   \n",
              "max    9.900000e+09  7.700000e+06     33.000000      8.000000  13540.000000   \n",
              "\n",
              "           sqft_lot        floors    waterfront          view     condition  \\\n",
              "count  2.161300e+04  21613.000000  21613.000000  21613.000000  21613.000000   \n",
              "mean   1.510697e+04      1.494309      0.007542      0.234303      3.409430   \n",
              "std    4.142051e+04      0.539989      0.086517      0.766318      0.650743   \n",
              "min    5.200000e+02      1.000000      0.000000      0.000000      1.000000   \n",
              "25%    5.040000e+03      1.000000      0.000000      0.000000      3.000000   \n",
              "50%    7.618000e+03      1.500000      0.000000      0.000000      3.000000   \n",
              "75%    1.068800e+04      2.000000      0.000000      0.000000      4.000000   \n",
              "max    1.651359e+06      3.500000      1.000000      4.000000      5.000000   \n",
              "\n",
              "              grade    sqft_above  sqft_basement      yr_built  yr_renovated  \\\n",
              "count  21613.000000  21613.000000   21613.000000  21613.000000  21613.000000   \n",
              "mean       7.656873   1788.390691     291.509045   1971.005136     84.402258   \n",
              "std        1.175459    828.090978     442.575043     29.373411    401.679240   \n",
              "min        1.000000    290.000000       0.000000   1900.000000      0.000000   \n",
              "25%        7.000000   1190.000000       0.000000   1951.000000      0.000000   \n",
              "50%        7.000000   1560.000000       0.000000   1975.000000      0.000000   \n",
              "75%        8.000000   2210.000000     560.000000   1997.000000      0.000000   \n",
              "max       13.000000   9410.000000    4820.000000   2015.000000   2015.000000   \n",
              "\n",
              "            zipcode           lat          long  sqft_living15     sqft_lot15  \n",
              "count  21613.000000  21613.000000  21613.000000   21613.000000   21613.000000  \n",
              "mean   98077.939805     47.560053   -122.213896    1986.552492   12768.455652  \n",
              "std       53.505026      0.138564      0.140828     685.391304   27304.179631  \n",
              "min    98001.000000     47.155900   -122.519000     399.000000     651.000000  \n",
              "25%    98033.000000     47.471000   -122.328000    1490.000000    5100.000000  \n",
              "50%    98065.000000     47.571800   -122.230000    1840.000000    7620.000000  \n",
              "75%    98118.000000     47.678000   -122.125000    2360.000000   10083.000000  \n",
              "max    98199.000000     47.777600   -121.315000    6210.000000  871200.000000  "
            ],
            "text/html": [
              "\n",
              "  <div id=\"df-62a88921-2ea1-4547-9bd3-0eef4bc51cd0\">\n",
              "    <div class=\"colab-df-container\">\n",
              "      <div>\n",
              "<style scoped>\n",
              "    .dataframe tbody tr th:only-of-type {\n",
              "        vertical-align: middle;\n",
              "    }\n",
              "\n",
              "    .dataframe tbody tr th {\n",
              "        vertical-align: top;\n",
              "    }\n",
              "\n",
              "    .dataframe thead th {\n",
              "        text-align: right;\n",
              "    }\n",
              "</style>\n",
              "<table border=\"1\" class=\"dataframe\">\n",
              "  <thead>\n",
              "    <tr style=\"text-align: right;\">\n",
              "      <th></th>\n",
              "      <th>id</th>\n",
              "      <th>price</th>\n",
              "      <th>bedrooms</th>\n",
              "      <th>bathrooms</th>\n",
              "      <th>sqft_living</th>\n",
              "      <th>sqft_lot</th>\n",
              "      <th>floors</th>\n",
              "      <th>waterfront</th>\n",
              "      <th>view</th>\n",
              "      <th>condition</th>\n",
              "      <th>grade</th>\n",
              "      <th>sqft_above</th>\n",
              "      <th>sqft_basement</th>\n",
              "      <th>yr_built</th>\n",
              "      <th>yr_renovated</th>\n",
              "      <th>zipcode</th>\n",
              "      <th>lat</th>\n",
              "      <th>long</th>\n",
              "      <th>sqft_living15</th>\n",
              "      <th>sqft_lot15</th>\n",
              "    </tr>\n",
              "  </thead>\n",
              "  <tbody>\n",
              "    <tr>\n",
              "      <th>count</th>\n",
              "      <td>2.161300e+04</td>\n",
              "      <td>2.161300e+04</td>\n",
              "      <td>21613.000000</td>\n",
              "      <td>21613.000000</td>\n",
              "      <td>21613.000000</td>\n",
              "      <td>2.161300e+04</td>\n",
              "      <td>21613.000000</td>\n",
              "      <td>21613.000000</td>\n",
              "      <td>21613.000000</td>\n",
              "      <td>21613.000000</td>\n",
              "      <td>21613.000000</td>\n",
              "      <td>21613.000000</td>\n",
              "      <td>21613.000000</td>\n",
              "      <td>21613.000000</td>\n",
              "      <td>21613.000000</td>\n",
              "      <td>21613.000000</td>\n",
              "      <td>21613.000000</td>\n",
              "      <td>21613.000000</td>\n",
              "      <td>21613.000000</td>\n",
              "      <td>21613.000000</td>\n",
              "    </tr>\n",
              "    <tr>\n",
              "      <th>mean</th>\n",
              "      <td>4.580302e+09</td>\n",
              "      <td>5.400881e+05</td>\n",
              "      <td>3.370842</td>\n",
              "      <td>2.114757</td>\n",
              "      <td>2079.899736</td>\n",
              "      <td>1.510697e+04</td>\n",
              "      <td>1.494309</td>\n",
              "      <td>0.007542</td>\n",
              "      <td>0.234303</td>\n",
              "      <td>3.409430</td>\n",
              "      <td>7.656873</td>\n",
              "      <td>1788.390691</td>\n",
              "      <td>291.509045</td>\n",
              "      <td>1971.005136</td>\n",
              "      <td>84.402258</td>\n",
              "      <td>98077.939805</td>\n",
              "      <td>47.560053</td>\n",
              "      <td>-122.213896</td>\n",
              "      <td>1986.552492</td>\n",
              "      <td>12768.455652</td>\n",
              "    </tr>\n",
              "    <tr>\n",
              "      <th>std</th>\n",
              "      <td>2.876566e+09</td>\n",
              "      <td>3.671272e+05</td>\n",
              "      <td>0.930062</td>\n",
              "      <td>0.770163</td>\n",
              "      <td>918.440897</td>\n",
              "      <td>4.142051e+04</td>\n",
              "      <td>0.539989</td>\n",
              "      <td>0.086517</td>\n",
              "      <td>0.766318</td>\n",
              "      <td>0.650743</td>\n",
              "      <td>1.175459</td>\n",
              "      <td>828.090978</td>\n",
              "      <td>442.575043</td>\n",
              "      <td>29.373411</td>\n",
              "      <td>401.679240</td>\n",
              "      <td>53.505026</td>\n",
              "      <td>0.138564</td>\n",
              "      <td>0.140828</td>\n",
              "      <td>685.391304</td>\n",
              "      <td>27304.179631</td>\n",
              "    </tr>\n",
              "    <tr>\n",
              "      <th>min</th>\n",
              "      <td>1.000102e+06</td>\n",
              "      <td>7.500000e+04</td>\n",
              "      <td>0.000000</td>\n",
              "      <td>0.000000</td>\n",
              "      <td>290.000000</td>\n",
              "      <td>5.200000e+02</td>\n",
              "      <td>1.000000</td>\n",
              "      <td>0.000000</td>\n",
              "      <td>0.000000</td>\n",
              "      <td>1.000000</td>\n",
              "      <td>1.000000</td>\n",
              "      <td>290.000000</td>\n",
              "      <td>0.000000</td>\n",
              "      <td>1900.000000</td>\n",
              "      <td>0.000000</td>\n",
              "      <td>98001.000000</td>\n",
              "      <td>47.155900</td>\n",
              "      <td>-122.519000</td>\n",
              "      <td>399.000000</td>\n",
              "      <td>651.000000</td>\n",
              "    </tr>\n",
              "    <tr>\n",
              "      <th>25%</th>\n",
              "      <td>2.123049e+09</td>\n",
              "      <td>3.219500e+05</td>\n",
              "      <td>3.000000</td>\n",
              "      <td>1.750000</td>\n",
              "      <td>1427.000000</td>\n",
              "      <td>5.040000e+03</td>\n",
              "      <td>1.000000</td>\n",
              "      <td>0.000000</td>\n",
              "      <td>0.000000</td>\n",
              "      <td>3.000000</td>\n",
              "      <td>7.000000</td>\n",
              "      <td>1190.000000</td>\n",
              "      <td>0.000000</td>\n",
              "      <td>1951.000000</td>\n",
              "      <td>0.000000</td>\n",
              "      <td>98033.000000</td>\n",
              "      <td>47.471000</td>\n",
              "      <td>-122.328000</td>\n",
              "      <td>1490.000000</td>\n",
              "      <td>5100.000000</td>\n",
              "    </tr>\n",
              "    <tr>\n",
              "      <th>50%</th>\n",
              "      <td>3.904930e+09</td>\n",
              "      <td>4.500000e+05</td>\n",
              "      <td>3.000000</td>\n",
              "      <td>2.250000</td>\n",
              "      <td>1910.000000</td>\n",
              "      <td>7.618000e+03</td>\n",
              "      <td>1.500000</td>\n",
              "      <td>0.000000</td>\n",
              "      <td>0.000000</td>\n",
              "      <td>3.000000</td>\n",
              "      <td>7.000000</td>\n",
              "      <td>1560.000000</td>\n",
              "      <td>0.000000</td>\n",
              "      <td>1975.000000</td>\n",
              "      <td>0.000000</td>\n",
              "      <td>98065.000000</td>\n",
              "      <td>47.571800</td>\n",
              "      <td>-122.230000</td>\n",
              "      <td>1840.000000</td>\n",
              "      <td>7620.000000</td>\n",
              "    </tr>\n",
              "    <tr>\n",
              "      <th>75%</th>\n",
              "      <td>7.308900e+09</td>\n",
              "      <td>6.450000e+05</td>\n",
              "      <td>4.000000</td>\n",
              "      <td>2.500000</td>\n",
              "      <td>2550.000000</td>\n",
              "      <td>1.068800e+04</td>\n",
              "      <td>2.000000</td>\n",
              "      <td>0.000000</td>\n",
              "      <td>0.000000</td>\n",
              "      <td>4.000000</td>\n",
              "      <td>8.000000</td>\n",
              "      <td>2210.000000</td>\n",
              "      <td>560.000000</td>\n",
              "      <td>1997.000000</td>\n",
              "      <td>0.000000</td>\n",
              "      <td>98118.000000</td>\n",
              "      <td>47.678000</td>\n",
              "      <td>-122.125000</td>\n",
              "      <td>2360.000000</td>\n",
              "      <td>10083.000000</td>\n",
              "    </tr>\n",
              "    <tr>\n",
              "      <th>max</th>\n",
              "      <td>9.900000e+09</td>\n",
              "      <td>7.700000e+06</td>\n",
              "      <td>33.000000</td>\n",
              "      <td>8.000000</td>\n",
              "      <td>13540.000000</td>\n",
              "      <td>1.651359e+06</td>\n",
              "      <td>3.500000</td>\n",
              "      <td>1.000000</td>\n",
              "      <td>4.000000</td>\n",
              "      <td>5.000000</td>\n",
              "      <td>13.000000</td>\n",
              "      <td>9410.000000</td>\n",
              "      <td>4820.000000</td>\n",
              "      <td>2015.000000</td>\n",
              "      <td>2015.000000</td>\n",
              "      <td>98199.000000</td>\n",
              "      <td>47.777600</td>\n",
              "      <td>-121.315000</td>\n",
              "      <td>6210.000000</td>\n",
              "      <td>871200.000000</td>\n",
              "    </tr>\n",
              "  </tbody>\n",
              "</table>\n",
              "</div>\n",
              "      <button class=\"colab-df-convert\" onclick=\"convertToInteractive('df-62a88921-2ea1-4547-9bd3-0eef4bc51cd0')\"\n",
              "              title=\"Convert this dataframe to an interactive table.\"\n",
              "              style=\"display:none;\">\n",
              "        \n",
              "  <svg xmlns=\"http://www.w3.org/2000/svg\" height=\"24px\"viewBox=\"0 0 24 24\"\n",
              "       width=\"24px\">\n",
              "    <path d=\"M0 0h24v24H0V0z\" fill=\"none\"/>\n",
              "    <path d=\"M18.56 5.44l.94 2.06.94-2.06 2.06-.94-2.06-.94-.94-2.06-.94 2.06-2.06.94zm-11 1L8.5 8.5l.94-2.06 2.06-.94-2.06-.94L8.5 2.5l-.94 2.06-2.06.94zm10 10l.94 2.06.94-2.06 2.06-.94-2.06-.94-.94-2.06-.94 2.06-2.06.94z\"/><path d=\"M17.41 7.96l-1.37-1.37c-.4-.4-.92-.59-1.43-.59-.52 0-1.04.2-1.43.59L10.3 9.45l-7.72 7.72c-.78.78-.78 2.05 0 2.83L4 21.41c.39.39.9.59 1.41.59.51 0 1.02-.2 1.41-.59l7.78-7.78 2.81-2.81c.8-.78.8-2.07 0-2.86zM5.41 20L4 18.59l7.72-7.72 1.47 1.35L5.41 20z\"/>\n",
              "  </svg>\n",
              "      </button>\n",
              "      \n",
              "  <style>\n",
              "    .colab-df-container {\n",
              "      display:flex;\n",
              "      flex-wrap:wrap;\n",
              "      gap: 12px;\n",
              "    }\n",
              "\n",
              "    .colab-df-convert {\n",
              "      background-color: #E8F0FE;\n",
              "      border: none;\n",
              "      border-radius: 50%;\n",
              "      cursor: pointer;\n",
              "      display: none;\n",
              "      fill: #1967D2;\n",
              "      height: 32px;\n",
              "      padding: 0 0 0 0;\n",
              "      width: 32px;\n",
              "    }\n",
              "\n",
              "    .colab-df-convert:hover {\n",
              "      background-color: #E2EBFA;\n",
              "      box-shadow: 0px 1px 2px rgba(60, 64, 67, 0.3), 0px 1px 3px 1px rgba(60, 64, 67, 0.15);\n",
              "      fill: #174EA6;\n",
              "    }\n",
              "\n",
              "    [theme=dark] .colab-df-convert {\n",
              "      background-color: #3B4455;\n",
              "      fill: #D2E3FC;\n",
              "    }\n",
              "\n",
              "    [theme=dark] .colab-df-convert:hover {\n",
              "      background-color: #434B5C;\n",
              "      box-shadow: 0px 1px 3px 1px rgba(0, 0, 0, 0.15);\n",
              "      filter: drop-shadow(0px 1px 2px rgba(0, 0, 0, 0.3));\n",
              "      fill: #FFFFFF;\n",
              "    }\n",
              "  </style>\n",
              "\n",
              "      <script>\n",
              "        const buttonEl =\n",
              "          document.querySelector('#df-62a88921-2ea1-4547-9bd3-0eef4bc51cd0 button.colab-df-convert');\n",
              "        buttonEl.style.display =\n",
              "          google.colab.kernel.accessAllowed ? 'block' : 'none';\n",
              "\n",
              "        async function convertToInteractive(key) {\n",
              "          const element = document.querySelector('#df-62a88921-2ea1-4547-9bd3-0eef4bc51cd0');\n",
              "          const dataTable =\n",
              "            await google.colab.kernel.invokeFunction('convertToInteractive',\n",
              "                                                     [key], {});\n",
              "          if (!dataTable) return;\n",
              "\n",
              "          const docLinkHtml = 'Like what you see? Visit the ' +\n",
              "            '<a target=\"_blank\" href=https://colab.research.google.com/notebooks/data_table.ipynb>data table notebook</a>'\n",
              "            + ' to learn more about interactive tables.';\n",
              "          element.innerHTML = '';\n",
              "          dataTable['output_type'] = 'display_data';\n",
              "          await google.colab.output.renderOutput(dataTable, element);\n",
              "          const docLink = document.createElement('div');\n",
              "          docLink.innerHTML = docLinkHtml;\n",
              "          element.appendChild(docLink);\n",
              "        }\n",
              "      </script>\n",
              "    </div>\n",
              "  </div>\n",
              "  "
            ]
          },
          "metadata": {},
          "execution_count": 82
        }
      ]
    },
    {
      "cell_type": "code",
      "source": [],
      "metadata": {
        "id": "cPsxLHGWoOtt"
      },
      "execution_count": 82,
      "outputs": []
    },
    {
      "cell_type": "code",
      "source": [
        "df.drop('id', axis = 1, inplace = True)\n",
        "df.drop('date', axis = 1, inplace = True)\n",
        "df.drop('zipcode', axis = 1, inplace = True)\n",
        "df.drop('lat', axis = 1, inplace = True)\n",
        "df.drop('long', axis = 1, inplace = True)\n"
      ],
      "metadata": {
        "id": "0KUD8T08qMmq"
      },
      "execution_count": 83,
      "outputs": []
    },
    {
      "cell_type": "code",
      "source": [
        "plt.figure(figsize=(12,8)) \n",
        "sns.heatmap(df.corr(), annot=True, cmap='Dark2_r', linewidths = 2)\n",
        "plt.show()"
      ],
      "metadata": {
        "id": "r-jk_nHmqKpp",
        "outputId": "35748792-1afe-449e-cd80-04f0fa4fde4b",
        "colab": {
          "base_uri": "https://localhost:8080/",
          "height": 551
        }
      },
      "execution_count": 84,
      "outputs": [
        {
          "output_type": "display_data",
          "data": {
            "text/plain": [
              "<Figure size 864x576 with 2 Axes>"
            ],
            "image/png": "[encoded data removed]"
          },
          "metadata": {
            "needs_background": "light"
          }
        }
      ]
    },
    {
      "cell_type": "code",
      "source": [
        "columns = df.columns.drop('price')\n",
        "\n",
        "features = columns\n",
        "label = ['price']\n",
        "\n",
        "X = df[features]\n",
        "y = df[label]"
      ],
      "metadata": {
        "id": "p4zqCnFwq7Oc"
      },
      "execution_count": 85,
      "outputs": []
    },
    {
      "cell_type": "code",
      "source": [
        "# Split data \n",
        "X_train, X_test, y_train, y_test = train_test_split(X, y, test_size = 0.1, random_state = 101)\n",
        "\n",
        "print(f'Numero total de registros en la bdd: {len(X)}')\n",
        "print(\"*****\"*10)\n",
        "print(f'Numero total de registros en el training set: {len(X_train)}')\n",
        "print(f'Tamaño de X_train: {X_train.shape}')\n",
        "print(\"*****\"*10)\n",
        "print(f'Mumero total de registros en el test dataset: {len(X_test)}')\n",
        "print(f'Tamaño del X_test: {X_test.shape}')"
      ],
      "metadata": {
        "id": "p91PEVPLq93-",
        "outputId": "bae463d0-0b5e-4029-9b08-9712d611e8f4",
        "colab": {
          "base_uri": "https://localhost:8080/"
        }
      },
      "execution_count": 86,
      "outputs": [
        {
          "output_type": "stream",
          "name": "stdout",
          "text": [
            "Numero total de registros en la bdd: 21613\n",
            "**************************************************\n",
            "Numero total de registros en el training set: 19451\n",
            "Tamaño de X_train: (19451, 15)\n",
            "**************************************************\n",
            "Mumero total de registros en el test dataset: 2162\n",
            "Tamaño del X_test: (2162, 15)\n"
          ]
        }
      ]
    },
    {
      "cell_type": "code",
      "source": [
        "#tu codigo aquí"
      ],
      "metadata": {
        "id": "0faHrN8-rv9V"
      },
      "execution_count": 87,
      "outputs": []
    },
    {
      "cell_type": "code",
      "source": [
        "plt.figure(figsize=(12, 6))\n",
        "sns.scatterplot(data=df, x=\"sqft_living\", y=\"price\", hue=\"sqft_above\", style=\"grade\")"
      ],
      "metadata": {
        "id": "UlkjPNvbfVof",
        "outputId": "b08b2e2a-0ad5-40f6-d0ca-f0842ba1b155",
        "colab": {
          "base_uri": "https://localhost:8080/",
          "height": 418
        }
      },
      "execution_count": 88,
      "outputs": [
        {
          "output_type": "execute_result",
          "data": {
            "text/plain": [
              "<matplotlib.axes._subplots.AxesSubplot at 0x7fef8e380250>"
            ]
          },
          "metadata": {},
          "execution_count": 88
        },
        {
          "output_type": "display_data",
          "data": {
            "text/plain": [
              "<Figure size 864x432 with 1 Axes>"
            ],
            "image/png": "[encoded data removed]"
          },
          "metadata": {
            "needs_background": "light"
          }
        }
      ]
    },
    {
      "cell_type": "code",
      "source": [
        "# Linear Regression Model\n",
        "linear_reg = LinearRegression(fit_intercept=True)\n",
        "\n",
        "# train the model\n",
        "linear_reg.fit(X_train, y_train)\n",
        "\n",
        "# 15 coeficients, as we have 15 input variables\n",
        "#linear_reg.coef_, linear_reg.intercept_\n",
        "\n"
      ],
      "metadata": {
        "id": "V_3yU9z6IZey",
        "outputId": "763b8598-441a-4d63-87d8-2a5208154633",
        "colab": {
          "base_uri": "https://localhost:8080/"
        }
      },
      "execution_count": 89,
      "outputs": [
        {
          "output_type": "execute_result",
          "data": {
            "text/plain": [
              "LinearRegression()"
            ]
          },
          "metadata": {},
          "execution_count": 89
        }
      ]
    },
    {
      "cell_type": "code",
      "source": [
        "# use test data points to test the model\n",
        "y_hat_lr = linear_reg.predict(X_test)\n",
        "# Errors\n",
        "mae_lr = metrics.mean_absolute_error(y_test, y_hat_lr)\n",
        "rmse_lr = np.sqrt(metrics.mean_squared_error(y_test, y_hat_lr))\n",
        "r2_lr = r2_score(y_test, y_hat_lr)\n",
        "\n",
        "print('Error medio Absoluto (MAE):', mae_lr)\n",
        "print('Root Mean Squared Error:', rmse_lr)\n",
        "print('r2_score', r2_lr)"
      ],
      "metadata": {
        "id": "IHLWgT__0Yjr",
        "outputId": "4ff9e188-78a4-454d-af49-c8ef4684b3d8",
        "colab": {
          "base_uri": "https://localhost:8080/"
        }
      },
      "execution_count": 90,
      "outputs": [
        {
          "output_type": "stream",
          "name": "stdout",
          "text": [
            "Error medio Absoluto (MAE): 137480.1388273178\n",
            "Root Mean Squared Error: 232133.3676240749\n",
            "r2_score 0.6579723205007814\n"
          ]
        }
      ]
    },
    {
      "cell_type": "code",
      "source": [
        "# Multiple Polynomial Regression\n",
        "poly_features = PolynomialFeatures(degree=5, include_bias=False)\n",
        "\n",
        "linear_reg = LinearRegression(fit_intercept=True)\n",
        "model_polyreg = make_pipeline(\n",
        "                PolynomialFeatures(degree=3, include_bias=False),\n",
        "                StandardScaler(),\n",
        "                linear_reg)\n",
        "\n",
        "model_polyreg.fit(X_train, y_train)"
      ],
      "metadata": {
        "id": "20ZCzsUynv-X",
        "outputId": "2fdbf1d0-e470-4625-f17c-0d911ec45d5b",
        "colab": {
          "base_uri": "https://localhost:8080/"
        }
      },
      "execution_count": 91,
      "outputs": [
        {
          "output_type": "execute_result",
          "data": {
            "text/plain": [
              "Pipeline(steps=[('polynomialfeatures',\n",
              "                 PolynomialFeatures(degree=3, include_bias=False)),\n",
              "                ('standardscaler', StandardScaler()),\n",
              "                ('linearregression', LinearRegression())])"
            ]
          },
          "metadata": {},
          "execution_count": 91
        }
      ]
    },
    {
      "cell_type": "code",
      "source": [
        "# use test data points to test the model and plot the results\n",
        "y_hat_poly = model_polyreg.predict(X_test)\n",
        "\n",
        "# Errors\n",
        "mae_MRP = metrics.mean_absolute_error(y_test, y_hat_poly)\n",
        "rmse_MRP = np.sqrt(metrics.mean_squared_error(y_test, y_hat_poly))\n",
        "r2_MRP = r2_score(y_test, y_hat_poly)\n",
        "\n",
        "print('Error medio Absoluto (MAE):', mae_MRP)\n",
        "print('Root Mean Squared Error:', rmse_MRP)\n",
        "print('r2_score', r2_MRP)"
      ],
      "metadata": {
        "id": "nRLgr-SuszeI",
        "outputId": "10081836-c905-46ad-e24a-c26e08837f75",
        "colab": {
          "base_uri": "https://localhost:8080/"
        }
      },
      "execution_count": 92,
      "outputs": [
        {
          "output_type": "stream",
          "name": "stdout",
          "text": [
            "Error medio Absoluto (MAE): 121340.63109273964\n",
            "Root Mean Squared Error: 191122.35580092302\n",
            "r2_score 0.7681489377226229\n"
          ]
        }
      ]
    },
    {
      "cell_type": "code",
      "source": [
        "# Ridge Regression\n",
        "ridge_reg = Ridge(alpha=10)\n",
        "ridge_model = make_pipeline(\n",
        "                PolynomialFeatures(degree=5, include_bias=False),\n",
        "                StandardScaler(),\n",
        "                ridge_reg)\n",
        "# train\n",
        "ridge_model.fit(X_train, y_train)\n",
        "ridge_reg.coef_, ridge_reg.intercept_"
      ],
      "metadata": {
        "id": "aui6ufL2tpDY",
        "outputId": "7277a338-e757-4fe6-bcb7-53d9f3de6470",
        "colab": {
          "base_uri": "https://localhost:8080/"
        }
      },
      "execution_count": 93,
      "outputs": [
        {
          "output_type": "execute_result",
          "data": {
            "text/plain": [
              "(array([[35421.14375013,  4039.73346121, 20637.47547581, ...,\n",
              "         33158.34269006, 27928.38866793, 14609.89111186]]),\n",
              " array([539150.73672304]))"
            ]
          },
          "metadata": {},
          "execution_count": 93
        }
      ]
    },
    {
      "cell_type": "code",
      "source": [
        "# use test data points to test the model and plot the results\n",
        "y_hat_ridge = ridge_model.predict(X_test)\n",
        "\n",
        "# Errors\n",
        "mae_ridge = metrics.mean_absolute_error(y_test, y_hat_ridge)\n",
        "rmse_ridge = np.sqrt(metrics.mean_squared_error(y_test, y_hat_ridge))\n",
        "r2_ridge = r2_score(y_test, y_hat_ridge)\n",
        "\n",
        "print('Error medio Absoluto (MAE):', mae_ridge)\n",
        "print('Root Mean Squared Error:', rmse_ridge)\n",
        "print('r2_score', r2_ridge)"
      ],
      "metadata": {
        "id": "-s04Wl5xtzpP",
        "outputId": "d7b28165-952a-4923-9abb-e8b330336fe7",
        "colab": {
          "base_uri": "https://localhost:8080/"
        }
      },
      "execution_count": 94,
      "outputs": [
        {
          "output_type": "stream",
          "name": "stdout",
          "text": [
            "Error medio Absoluto (MAE): 133925.56205056782\n",
            "Root Mean Squared Error: 317892.92412444827\n",
            "r2_score 0.35857212041575026\n"
          ]
        }
      ]
    },
    {
      "cell_type": "code",
      "source": [
        "# Lasso Regression\n",
        "lasso_reg = Lasso(alpha=0.01)\n",
        "lasso_model = make_pipeline(\n",
        "                PolynomialFeatures(degree=3, include_bias=False),\n",
        "                StandardScaler(),\n",
        "                lasso_reg)\n",
        "# train\n",
        "lasso_model.fit(X_train, y_train)\n",
        "#lasso_reg.coef_, lasso_reg.intercept_"
      ],
      "metadata": {
        "id": "ef128odzzX52",
        "outputId": "cab2dfcb-a233-40b5-a42a-9ae2eb7d00eb",
        "colab": {
          "base_uri": "https://localhost:8080/"
        }
      },
      "execution_count": 95,
      "outputs": [
        {
          "output_type": "stream",
          "name": "stderr",
          "text": [
            "/usr/local/lib/python3.7/dist-packages/sklearn/linear_model/_coordinate_descent.py:648: ConvergenceWarning: Objective did not converge. You might want to increase the number of iterations, check the scale of the features or consider increasing regularisation. Duality gap: 2.947e+14, tolerance: 2.572e+11\n",
            "  coef_, l1_reg, l2_reg, X, y, max_iter, tol, rng, random, positive\n"
          ]
        },
        {
          "output_type": "execute_result",
          "data": {
            "text/plain": [
              "Pipeline(steps=[('polynomialfeatures',\n",
              "                 PolynomialFeatures(degree=3, include_bias=False)),\n",
              "                ('standardscaler', StandardScaler()),\n",
              "                ('lasso', Lasso(alpha=0.01))])"
            ]
          },
          "metadata": {},
          "execution_count": 95
        }
      ]
    },
    {
      "cell_type": "code",
      "source": [
        "y_hat_lasso = lasso_model.predict(X_test)\n",
        "\n",
        "# Errors\n",
        "mae_lasso = metrics.mean_absolute_error(y_test, y_hat_lasso)\n",
        "rmse_lasso = np.sqrt(metrics.mean_squared_error(y_test, y_hat_lasso))\n",
        "r2_lasso = r2_score(y_test, y_hat_lasso)\n",
        "\n",
        "print('Error medio Absoluto (MAE):', mae_ridge)\n",
        "print('Root Mean Squared Error:', rmse_ridge)\n",
        "print('r2_score', r2_ridge)"
      ],
      "metadata": {
        "id": "YI2vD1M00ZSP",
        "outputId": "593f96f8-02d7-4259-eda7-868b582e9dca",
        "colab": {
          "base_uri": "https://localhost:8080/"
        }
      },
      "execution_count": 96,
      "outputs": [
        {
          "output_type": "stream",
          "name": "stdout",
          "text": [
            "Error medio Absoluto (MAE): 133925.56205056782\n",
            "Root Mean Squared Error: 317892.92412444827\n",
            "r2_score 0.35857212041575026\n"
          ]
        }
      ]
    },
    {
      "cell_type": "code",
      "source": [
        "res = [r2_lin, r2_poly, r2_ridge, r2_lasso]\n",
        "names = ['RL', 'RP', 'Ridge', 'Lasso']\n",
        "\n",
        "fig = plt.figure()\n",
        "aux = fig.add_axes([0,0,1,1])\n",
        "aux.bar(names, res)\n",
        "plt.show()\n",
        "\n",
        "print('R Cuadrados:', res)"
      ],
      "metadata": {
        "id": "WbFO4_yn-Ye8",
        "outputId": "82c777b1-557b-4f25-9f30-8b33358d3d49",
        "colab": {
          "base_uri": "https://localhost:8080/",
          "height": 354
        }
      },
      "execution_count": 97,
      "outputs": [
        {
          "output_type": "display_data",
          "data": {
            "text/plain": [
              "<Figure size 432x288 with 1 Axes>"
            ],
            "image/png": "[encoded data removed]"
          },
          "metadata": {
            "needs_background": "light"
          }
        },
        {
          "output_type": "stream",
          "name": "stdout",
          "text": [
            "R Cuadrados: [0.595798333672179, 0.7120302307125213, 0.35857212041575026, 0.7716864978413431]\n"
          ]
        }
      ]
    },
    {
      "cell_type": "markdown",
      "source": [
        "### Conclusiones\n",
        "\n",
        "Se tienen 21613 datos, con los que se hizo una partición de 10% para validar y 90% para entrenar (2162, 19451). Después de entrenar y validar cada modelo, se analiza el error de R cuadrado determinando que la Regresión Polinomial y el Lasso son los mejores modelos, con Lasso como el que mejores resultados ofrece.\n",
        "\n",
        "El modelo Ridge tiende a tardar más para converger, con un grado 5 toma bastante tiempo para entrenarse, y aùn así sus resultados son los más malos.\n",
        "\n",
        "Con la maatriz de correlación se puede ver que las variables 'sqft_living', 'sqft_above', 'sqft_living15', 'grade', tienen una relación directa con el valor del precio de las casas.\n",
        "\n",
        "Aunque se tiene una buena cantidad de records, hacer el entrenamiento 90-10 podría hacer que los modelos aprendan en sobremanera de los datos y se sobreentrenen. Sería bueno hacer otra partición, 80-20, para permitir al modelo validar con más datos desconocidos.\n"
      ],
      "metadata": {
        "id": "aiq7pHld_WYE"
      }
    }
  ]
}